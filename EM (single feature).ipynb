{
 "cells": [
  {
   "cell_type": "code",
   "execution_count": 5,
   "metadata": {},
   "outputs": [
    {
     "name": "stderr",
     "output_type": "stream",
     "text": [
      "C:\\Users\\linuj\\Anaconda3\\lib\\site-packages\\matplotlib\\axes\\_axes.py:6462: UserWarning: The 'normed' kwarg is deprecated, and has been replaced by the 'density' kwarg.\n",
      "  warnings.warn(\"The 'normed' kwarg is deprecated, and has been \"\n"
     ]
    },
    {
     "data": {
      "image/png": "[encoded data removed]",
      "text/plain": [
       "<Figure size 432x288 with 1 Axes>"
      ]
     },
     "metadata": {},
     "output_type": "display_data"
    }
   ],
   "source": [
    "import seaborn as sns\n",
    "import numpy as np\n",
    "from sklearn.datasets.samples_generator import make_blobs\n",
    "from sklearn.mixture import GaussianMixture\n",
    "import scipy.stats as sc\n",
    "nof = 1\n",
    "noc = 2\n",
    "\n",
    "x,y = make_blobs(n_samples=1000,n_features=nof,centers=noc,cluster_std=1.7)\n",
    "sns.distplot(x,color='b')\n",
    "x = x[:,0]"
   ]
  },
  {
   "cell_type": "code",
   "execution_count": 6,
   "metadata": {},
   "outputs": [
    {
     "name": "stdout",
     "output_type": "stream",
     "text": [
      "mu: [-0.17699242  9.74629715] sigma: [1.6763581  1.74197413] variance [2.81017648 3.03447386]\n"
     ]
    }
   ],
   "source": [
    "mu = np.random.random(noc)*10\n",
    "sigma = np.ones(noc)*1.0\n",
    "\n",
    "bayes_both = np.ones((noc,len(x)))\n",
    "\n",
    "for i in range(10):\n",
    "    bayes_both[0] = sc.norm.pdf(x,mu[0],sigma[0])\n",
    "    bayes_both[1] = sc.norm.pdf(x,mu[1],sigma[1])\n",
    "    \n",
    "    Sum = np.sum(bayes_both,axis=0)\n",
    "        \n",
    "    bayes_both =bayes_both/Sum\n",
    "    \n",
    "    mu = np.sum(bayes_both*x,axis=1)/np.sum(bayes_both,axis=1)\n",
    "        \n",
    "    sigma = np.sqrt(np.sum(bayes_both*(x-mu[:,np.newaxis])**2,axis=1)/ np.sum(bayes_both,axis=1))\n",
    "                    \n",
    "    var = sigma**2 \n",
    "                    \n",
    "print(\"mu:\",mu,\"sigma:\",sigma,\"variance\",var)                    "
   ]
  },
  {
   "cell_type": "code",
   "execution_count": null,
   "metadata": {},
   "outputs": [],
   "source": [
    "\n",
    "     "
   ]
  },
  {
   "cell_type": "code",
   "execution_count": null,
   "metadata": {},
   "outputs": [],
   "source": []
  }
 ],
 "metadata": {
  "kernelspec": {
   "display_name": "Python 3",
   "language": "python",
   "name": "python3"
  },
  "language_info": {
   "codemirror_mode": {
    "name": "ipython",
    "version": 3
   },
   "file_extension": ".py",
   "mimetype": "text/x-python",
   "name": "python",
   "nbconvert_exporter": "python",
   "pygments_lexer": "ipython3",
   "version": "3.6.5"
  }
 },
 "nbformat": 4,
 "nbformat_minor": 2
}
