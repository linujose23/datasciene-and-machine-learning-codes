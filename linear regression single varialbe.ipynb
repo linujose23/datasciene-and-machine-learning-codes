{
 "cells": [
  {
   "cell_type": "code",
   "execution_count": 5,
   "metadata": {},
   "outputs": [
    {
     "data": {
      "text/plain": [
       "Text(0,0.5,'Y Axis')"
      ]
     },
     "execution_count": 5,
     "metadata": {},
     "output_type": "execute_result"
    },
    {
     "data": {
      "image/png": "[encoded data removed]",
      "text/plain": [
       "<Figure size 432x288 with 1 Axes>"
      ]
     },
     "metadata": {},
     "output_type": "display_data"
    }
   ],
   "source": [
    "#from sklearn.preprocessing import MinMaxScaler\n",
    "\n",
    "import numpy as np\n",
    "\n",
    "import matplotlib.pyplot as plt\n",
    "\n",
    "%matplotlib inline\n",
    "\n",
    "sample = 100\n",
    " \n",
    "x = np.linspace(0,1,sample)\n",
    "noise = np.random.randn(len(x))\n",
    "y = 5*x + noise\n",
    "plt.scatter(x,y)\n",
    "plt.xlabel('X Axis')\n",
    "plt.ylabel('Y Axis')"
   ]
  },
  {
   "cell_type": "code",
   "execution_count": null,
   "metadata": {},
   "outputs": [],
   "source": []
  },
  {
   "cell_type": "code",
   "execution_count": 7,
   "metadata": {},
   "outputs": [
    {
     "name": "stdout",
     "output_type": "stream",
     "text": [
      "-0.28678281806658 5.4648096084000315\n"
     ]
    },
    {
     "data": {
      "text/plain": [
       "[<matplotlib.lines.Line2D at 0x7fd036fd7cc0>]"
      ]
     },
     "execution_count": 7,
     "metadata": {},
     "output_type": "execute_result"
    },
    {
     "data": {
      "image/png": "[encoded data removed]",
      "text/plain": [
       "<Figure size 432x288 with 1 Axes>"
      ]
     },
     "metadata": {},
     "output_type": "display_data"
    }
   ],
   "source": [
    "theta0 = np.random.uniform(1)\n",
    "theta1 = np.random.uniform(1)\n",
    "lr = 0.4\n",
    "hypo = theta0+theta1*x\n",
    "\n",
    "costf = (1/(2*sample*np.sum(hypo-y))**2)\n",
    "\n",
    "temp = np.ones(2)\n",
    "\n",
    "\n",
    "for i in range(1000):\n",
    "    \n",
    "    temp[0] = theta0 - lr * (1/sample)*(np.sum(hypo-y))\n",
    "    temp[1] = theta1 - lr * (1/sample)*(np.sum((hypo-y)*x))\n",
    "    theta0 = temp[0]\n",
    "    theta1 = temp[1]\n",
    "                                                                 \n",
    "                                                  \n",
    "    hypo = theta0+theta1*x\n",
    "    costf = (1/(2*sample))*np.sum((hypo-y)**2)\n",
    "                                                                        \n",
    "                                                \n",
    "print(theta0,theta1)\n",
    "plt.scatter(x,y)\n",
    "plt.plot(x,hypo)                                                                                "
   ]
  },
  {
   "cell_type": "code",
   "execution_count": null,
   "metadata": {},
   "outputs": [],
   "source": []
  },
  {
   "cell_type": "code",
   "execution_count": null,
   "metadata": {},
   "outputs": [],
   "source": []
  },
  {
   "cell_type": "code",
   "execution_count": null,
   "metadata": {},
   "outputs": [],
   "source": []
  }
 ],
 "metadata": {
  "kernelspec": {
   "display_name": "Python 3",
   "language": "python",
   "name": "python3"
  },
  "language_info": {
   "codemirror_mode": {
    "name": "ipython",
    "version": 3
   },
   "file_extension": ".py",
   "mimetype": "text/x-python",
   "name": "python",
   "nbconvert_exporter": "python",
   "pygments_lexer": "ipython3",
   "version": "3.6.5"
  }
 },
 "nbformat": 4,
 "nbformat_minor": 2
}
