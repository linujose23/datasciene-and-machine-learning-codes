{
 "cells": [
  {
   "cell_type": "code",
   "execution_count": 6,
   "metadata": {},
   "outputs": [
    {
     "data": {
      "text/plain": [
       "Text(0,0.5,'Y label')"
      ]
     },
     "execution_count": 6,
     "metadata": {},
     "output_type": "execute_result"
    },
    {
     "data": {
      "image/png": "[encoded data removed]",
      "text/plain": [
       "<Figure size 432x288 with 1 Axes>"
      ]
     },
     "metadata": {},
     "output_type": "display_data"
    }
   ],
   "source": [
    "from sklearn.preprocessing import MinMaxScaler\n",
    "\n",
    "import numpy as np\n",
    "\n",
    "import matplotlib.pyplot as plt\n",
    "\n",
    "sample = 100\n",
    "\n",
    " x = np.linspace(0,1,sample)\n",
    "\n",
    "noise = np.random.randn(100)\n",
    "\n",
    "y = 2*x + noise\n",
    "\n",
    "plt.scatter(x,y)\n",
    "plt.xlabel('X label')\n",
    "plt.ylabel('Y label')\n"
   ]
  },
  {
   "cell_type": "code",
   "execution_count": 2,
   "metadata": {},
   "outputs": [
    {
     "ename": "SyntaxError",
     "evalue": "invalid syntax (<ipython-input-2-e34de1b5fca7>, line 15)",
     "output_type": "error",
     "traceback": [
      "\u001b[0;36m  File \u001b[0;32m\"<ipython-input-2-e34de1b5fca7>\"\u001b[0;36m, line \u001b[0;32m15\u001b[0m\n\u001b[0;31m    temp[1] = theta1 - lr*(1/sample)*(np.sum(hypo-y)*x)\u001b[0m\n\u001b[0m       ^\u001b[0m\n\u001b[0;31mSyntaxError\u001b[0m\u001b[0;31m:\u001b[0m invalid syntax\n"
     ]
    }
   ],
   "source": [
    "lr = 0.5\n",
    "\n",
    "theta0 = np.random.uniform(1) \n",
    "theta1 = np.random.uniform(1)\n",
    "\n",
    "hypo = theta0+theta1*x\n",
    "\n",
    "cost = 1/(2*(hypo-y)**2)\n",
    "\n",
    "temp = np.ones(2)\n",
    "\n",
    "for i in range(1000) :\n",
    "    \n",
    "    temp[0] = theta0 - lr*(1/sample)*(np.sum(hypo-y)\n",
    "    temp[1] = theta1 - lr*(1/sample)*(np.sum(hypo-y)*x)\n",
    "\n",
    "    \n",
    "    theta0 = temp[0]\n",
    "    theta1 = temp[1]\n",
    "                    \n",
    "    hypo = theta0+theta1*x\n",
    "\n",
    "    cost = 1/(2*(hypo-y)**2)\n",
    "    \n",
    "plt.plot(x,y)\n",
    "plt.scatter(x,hypo)\n",
    "\n"
   ]
  },
  {
   "cell_type": "markdown",
   "metadata": {},
   "source": []
  },
  {
   "cell_type": "markdown",
   "metadata": {},
   "source": [
    " "
   ]
  },
  {
   "cell_type": "code",
   "execution_count": null,
   "metadata": {},
   "outputs": [],
   "source": []
  }
 ],
 "metadata": {
  "kernelspec": {
   "display_name": "Python 3",
   "language": "python",
   "name": "python3"
  },
  "language_info": {
   "codemirror_mode": {
    "name": "ipython",
    "version": 3
   },
   "file_extension": ".py",
   "mimetype": "text/x-python",
   "name": "python",
   "nbconvert_exporter": "python",
   "pygments_lexer": "ipython3",
   "version": "3.6.5"
  }
 },
 "nbformat": 4,
 "nbformat_minor": 2
}
