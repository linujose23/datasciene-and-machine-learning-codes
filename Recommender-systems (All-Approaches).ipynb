{
 "cells": [
  {
   "cell_type": "code",
   "execution_count": 1,
   "metadata": {},
   "outputs": [
    {
     "name": "stderr",
     "output_type": "stream",
     "text": [
      "C:\\Users\\linuj\\Anaconda3\\lib\\site-packages\\gensim\\utils.py:1197: UserWarning: detected Windows; aliasing chunkize to chunkize_serial\n",
      "  warnings.warn(\"detected Windows; aliasing chunkize to chunkize_serial\")\n"
     ]
    }
   ],
   "source": [
    "import numpy as np\n",
    "import pandas as pd\n",
    "import seaborn as sns\n",
    "import nltk\n",
    "from nltk.tokenize.toktok import ToktokTokenizer\n",
    "import pickle as pk\n",
    "from sklearn.feature_extraction.text import TfidfVectorizer\n",
    "from sklearn.metrics.pairwise import cosine_similarity\n",
    "import re\n",
    "from nltk.stem.snowball import SnowballStemmer\n",
    "import nltk\n",
    "stemmer = SnowballStemmer('english')\n",
    "news = pd.read_csv('news_articles.csv')\n",
    "news.head()\n",
    "tokenizer = ToktokTokenizer()\n",
    "import gensim\n",
    "from gensim import corpora, models\n",
    "from sklearn.decomposition import LatentDirichletAllocation\n",
    "from sklearn.cluster import KMeans"
   ]
  },
  {
   "cell_type": "code",
   "execution_count": 2,
   "metadata": {},
   "outputs": [],
   "source": [
    "articles_read = [2,7]\n",
    "no_of_recommends = 5\n",
    "n_topics = 7"
   ]
  },
  {
   "cell_type": "code",
   "execution_count": 126,
   "metadata": {},
   "outputs": [
    {
     "data": {
      "text/html": [
       "<div>\n",
       "<style scoped>\n",
       "    .dataframe tbody tr th:only-of-type {\n",
       "        vertical-align: middle;\n",
       "    }\n",
       "\n",
       "    .dataframe tbody tr th {\n",
       "        vertical-align: top;\n",
       "    }\n",
       "\n",
       "    .dataframe thead th {\n",
       "        text-align: right;\n",
       "    }\n",
       "</style>\n",
       "<table border=\"1\" class=\"dataframe\">\n",
       "  <thead>\n",
       "    <tr style=\"text-align: right;\">\n",
       "      <th></th>\n",
       "      <th>Article_Id</th>\n",
       "      <th>Title</th>\n",
       "      <th>Content</th>\n",
       "    </tr>\n",
       "  </thead>\n",
       "  <tbody>\n",
       "    <tr>\n",
       "      <th>0</th>\n",
       "      <td>0</td>\n",
       "      <td>14 dead after bus falls into canal in Telangan...</td>\n",
       "      <td>At least 14 people died and 17 others were inj...</td>\n",
       "    </tr>\n",
       "    <tr>\n",
       "      <th>1</th>\n",
       "      <td>1</td>\n",
       "      <td>Pratibha Tiwari molested on busy road   Saath ...</td>\n",
       "      <td>TV actress Pratibha Tiwari  who is best known ...</td>\n",
       "    </tr>\n",
       "    <tr>\n",
       "      <th>2</th>\n",
       "      <td>2</td>\n",
       "      <td>US  South Korea begin joint military drill ami...</td>\n",
       "      <td>The United States and South Korea began a join...</td>\n",
       "    </tr>\n",
       "    <tr>\n",
       "      <th>3</th>\n",
       "      <td>3</td>\n",
       "      <td>Illegal construction in Bengaluru  Will my hou...</td>\n",
       "      <td>The relentless drive by Bengaluru s  Bangalore...</td>\n",
       "    </tr>\n",
       "    <tr>\n",
       "      <th>4</th>\n",
       "      <td>4</td>\n",
       "      <td>Punjab Gau Rakshak Dal chief held for assaulti...</td>\n",
       "      <td>Punjab Gau Raksha Dal chief Satish Kumar and h...</td>\n",
       "    </tr>\n",
       "  </tbody>\n",
       "</table>\n",
       "</div>"
      ],
      "text/plain": [
       "   Article_Id                                              Title  \\\n",
       "0           0  14 dead after bus falls into canal in Telangan...   \n",
       "1           1  Pratibha Tiwari molested on busy road   Saath ...   \n",
       "2           2  US  South Korea begin joint military drill ami...   \n",
       "3           3  Illegal construction in Bengaluru  Will my hou...   \n",
       "4           4  Punjab Gau Rakshak Dal chief held for assaulti...   \n",
       "\n",
       "                                             Content  \n",
       "0  At least 14 people died and 17 others were inj...  \n",
       "1  TV actress Pratibha Tiwari  who is best known ...  \n",
       "2  The United States and South Korea began a join...  \n",
       "3  The relentless drive by Bengaluru s  Bangalore...  \n",
       "4  Punjab Gau Raksha Dal chief Satish Kumar and h...  "
      ]
     },
     "execution_count": 126,
     "metadata": {},
     "output_type": "execute_result"
    }
   ],
   "source": [
    "news.head()"
   ]
  },
  {
   "cell_type": "code",
   "execution_count": 3,
   "metadata": {},
   "outputs": [],
   "source": [
    "news = news[['Article_Id','Title','Content']].dropna()\n",
    "contents = news['Content'].tolist()"
   ]
  },
  {
   "cell_type": "code",
   "execution_count": 4,
   "metadata": {},
   "outputs": [
    {
     "data": {
      "text/plain": [
       "'At least 14 people died and 17 others were injured after a bus travelling from Hyderabad to Kakinada plunged into a canal from a bridge on the accident-prone stretch of the Hyderabad-Khammam highway in Telangana early Monday morning \\r\\nThe injured were admitted to the Government General Hospital for treatment \\r\\n\\r\\n\\r\\nSeven people died on the spot and the others succumbed to injuries while undergoing treatment at the hospital  The passengers belonged to the East and West Godavari districts of Andhra Pradesh \\r\\nThe bus  owned by private operator Yatra Genie  commenced its journey from Hyderabad at 11 30 p m  on Sunday  Khammam Superintendent of Police Shah Nawaz Khan was quoted by the Hindustan Times as saying \\r\\nThe accident happened around 2 30 a m  when the driver slammed the brakes to avoid a collision with another vehicle coming from the opposite direction on a bridge over Nagarjunsagar project left canal at Nayankangudem village in Khammam district  the daily reported  The bus hit the parapet wall of the bridge and nose-dived into the canal \\r\\nThe driver of the bus was apparently driving at high speed due to which he lost control of the vehicle  following which it fell into the canal under Kusumanchi mandal  the Deccan Herald reported \\r\\nTravellers immediately informed the police who rushed to the accident scene and began the rescue operations '"
      ]
     },
     "execution_count": 4,
     "metadata": {},
     "output_type": "execute_result"
    }
   ],
   "source": [
    "contents[0]"
   ]
  },
  {
   "cell_type": "code",
   "execution_count": 5,
   "metadata": {},
   "outputs": [],
   "source": [
    "def clean_tokenize(document):\n",
    "    document = re.sub('[^\\w_\\s-]',' ',document)\n",
    "    tokens  = nltk.word_tokenize(document)\n",
    "    cleaned_article = ' '.join([stemmer.stem(item) for item in tokens])   #stemming the tokenized corpus\n",
    "    return cleaned_article"
   ]
  },
  {
   "cell_type": "code",
   "execution_count": 6,
   "metadata": {},
   "outputs": [],
   "source": [
    "cleaned_articles = list(map(clean_tokenize,contents))"
   ]
  },
  {
   "cell_type": "code",
   "execution_count": 7,
   "metadata": {},
   "outputs": [
    {
     "data": {
      "text/plain": [
       "'at least 14 peopl die and 17 other were injur after a bus travel from hyderabad to kakinada plung into a canal from a bridg on the accident-pron stretch of the hyderabad-khammam highway in telangana earli monday morn the injur were admit to the govern general hospit for treatment seven peopl die on the spot and the other succumb to injuri while undergo treatment at the hospit the passeng belong to the east and west godavari district of andhra pradesh the bus own by privat oper yatra geni commenc it journey from hyderabad at 11 30 p m on sunday khammam superintend of polic shah nawaz khan was quot by the hindustan time as say the accid happen around 2 30 a m when the driver slam the brake to avoid a collis with anoth vehicl come from the opposit direct on a bridg over nagarjunsagar project left canal at nayankangudem villag in khammam district the daili report the bus hit the parapet wall of the bridg and nose-div into the canal the driver of the bus was appar drive at high speed due to which he lost control of the vehicl follow which it fell into the canal under kusumanchi mandal the deccan herald report travel immedi inform the polic who rush to the accid scene and began the rescu oper'"
      ]
     },
     "execution_count": 7,
     "metadata": {},
     "output_type": "execute_result"
    }
   ],
   "source": [
    "cleaned_articles[0]"
   ]
  },
  {
   "cell_type": "code",
   "execution_count": 12,
   "metadata": {},
   "outputs": [],
   "source": [
    "user_articles = ' '.join(cleaned_articles[i] for i in articles_read)"
   ]
  },
  {
   "cell_type": "code",
   "execution_count": 13,
   "metadata": {},
   "outputs": [
    {
     "data": {
      "text/plain": [
       "<4831x16009 sparse matrix of type '<class 'numpy.float64'>'\n",
       "\twith 468648 stored elements in Compressed Sparse Row format>"
      ]
     },
     "execution_count": 13,
     "metadata": {},
     "output_type": "execute_result"
    }
   ],
   "source": [
    "tfidf_matrix = TfidfVectorizer(stop_words='english',min_df=2)\n",
    "article_tfidf_matrix = tfidf_matrix.fit_transform(cleaned_articles)\n",
    "article_tfidf_matrix"
   ]
  },
  {
   "cell_type": "code",
   "execution_count": 14,
   "metadata": {},
   "outputs": [
    {
     "data": {
      "text/plain": [
       "<1x16009 sparse matrix of type '<class 'numpy.float64'>'\n",
       "\twith 188 stored elements in Compressed Sparse Row format>"
      ]
     },
     "execution_count": 14,
     "metadata": {},
     "output_type": "execute_result"
    }
   ],
   "source": [
    "user_articles_tfidf_matrix = tfidf_matrix.transform([user_articles])\n",
    "user_articles_tfidf_matrix"
   ]
  },
  {
   "cell_type": "code",
   "execution_count": null,
   "metadata": {},
   "outputs": [],
   "source": []
  },
  {
   "cell_type": "code",
   "execution_count": null,
   "metadata": {},
   "outputs": [],
   "source": []
  },
  {
   "cell_type": "code",
   "execution_count": 18,
   "metadata": {},
   "outputs": [],
   "source": [
    "article_similarity_matrix = cosine_similarity(article_tfidf_matrix,user_articles_tfidf_matrix)"
   ]
  },
  {
   "cell_type": "code",
   "execution_count": 19,
   "metadata": {},
   "outputs": [
    {
     "data": {
      "text/plain": [
       "(4831, 1)"
      ]
     },
     "execution_count": 19,
     "metadata": {},
     "output_type": "execute_result"
    }
   ],
   "source": [
    "article_similarity_matrix.shape"
   ]
  },
  {
   "cell_type": "code",
   "execution_count": 20,
   "metadata": {},
   "outputs": [],
   "source": [
    "recommended_article_ids = np.argsort(article_similarity_matrix,axis=0)[::-1].flatten()"
   ]
  },
  {
   "cell_type": "code",
   "execution_count": 21,
   "metadata": {},
   "outputs": [
    {
     "data": {
      "text/plain": [
       "array([   2,    7, 3326, ...,  210,  622,  262], dtype=int64)"
      ]
     },
     "execution_count": 21,
     "metadata": {},
     "output_type": "execute_result"
    }
   ],
   "source": [
    "recommended_article_ids"
   ]
  },
  {
   "cell_type": "code",
   "execution_count": 224,
   "metadata": {},
   "outputs": [],
   "source": [
    "final_recommended_articles_id = [article_id for article_id in recommended_article_ids if article_id not in articles_read][:no_of_recommends]"
   ]
  },
  {
   "cell_type": "code",
   "execution_count": 225,
   "metadata": {},
   "outputs": [
    {
     "data": {
      "text/plain": [
       "[3326, 2862, 2808, 2724, 2950]"
      ]
     },
     "execution_count": 225,
     "metadata": {},
     "output_type": "execute_result"
    }
   ],
   "source": [
    "final_recommended_articles_id"
   ]
  },
  {
   "cell_type": "code",
   "execution_count": 226,
   "metadata": {},
   "outputs": [
    {
     "name": "stdout",
     "output_type": "stream",
     "text": [
      "3326    US  China to  fully implement  sanctions again...\n",
      "Name: Title, dtype: object\n",
      "2862    J K  PM Modi appeals for peace in Valley  assu...\n",
      "Name: Title, dtype: object\n",
      "2808    J K  CM Mufti blames  vested interests  for Ka...\n",
      "Name: Title, dtype: object\n",
      "2724    PM Modi says at all-party meeting that PoK is ...\n",
      "Name: Title, dtype: object\n",
      "2950    Kashmir  Death toll rises to 8 in protests ove...\n",
      "Name: Title, dtype: object\n"
     ]
    }
   ],
   "source": [
    "for i in final_recommended_articles_id:\n",
    "    print (news[\"Title\"][news[\"Article_Id\"]==i])"
   ]
  },
  {
   "cell_type": "code",
   "execution_count": 36,
   "metadata": {},
   "outputs": [
    {
     "name": "stdout",
     "output_type": "stream",
     "text": [
      "Articles_Read by user :\n",
      "2    US  South Korea begin joint military drill ami...\n",
      "7    Dialogue crucial in finding permanent solution...\n",
      "Name: Title, dtype: object\n",
      "Recommended-Articles for user :\n",
      "2724    PM Modi says at all-party meeting that PoK is ...\n",
      "2808    J K  CM Mufti blames  vested interests  for Ka...\n",
      "2862    J K  PM Modi appeals for peace in Valley  assu...\n",
      "2950    Kashmir  Death toll rises to 8 in protests ove...\n",
      "3326    US  China to  fully implement  sanctions again...\n",
      "Name: Title, dtype: object\n"
     ]
    }
   ],
   "source": [
    "print('Articles_Read by user :')\n",
    "print(news.loc[news['Article_Id'].isin(articles_read)]['Title'])\n",
    "\n",
    "print('Recommended-Articles for user :')\n",
    "\n",
    "print(news.loc[news['Article_Id'].isin(final_recommended_articles_id)]['Title'])"
   ]
  },
  {
   "cell_type": "code",
   "execution_count": null,
   "metadata": {},
   "outputs": [],
   "source": []
  },
  {
   "cell_type": "code",
   "execution_count": null,
   "metadata": {},
   "outputs": [],
   "source": []
  },
  {
   "cell_type": "markdown",
   "metadata": {},
   "source": [
    "# TOPIC-MODELLING "
   ]
  },
  {
   "cell_type": "code",
   "execution_count": 70,
   "metadata": {},
   "outputs": [],
   "source": [
    "lda = LatentDirichletAllocation(n_components=n_topics,random_state=0)"
   ]
  },
  {
   "cell_type": "code",
   "execution_count": 71,
   "metadata": {},
   "outputs": [],
   "source": [
    "article_vocab = lda.fit_transform(article_tfidf_matrix)"
   ]
  },
  {
   "cell_type": "code",
   "execution_count": 75,
   "metadata": {},
   "outputs": [],
   "source": [
    "kmeans = KMeans(n_clusters=7,random_state=0)"
   ]
  },
  {
   "cell_type": "code",
   "execution_count": 76,
   "metadata": {},
   "outputs": [],
   "source": [
    "article_cluster = kmeans.fit(article_vocab)"
   ]
  },
  {
   "cell_type": "code",
   "execution_count": 77,
   "metadata": {},
   "outputs": [],
   "source": [
    "labels = kmeans.labels_"
   ]
  },
  {
   "cell_type": "code",
   "execution_count": null,
   "metadata": {},
   "outputs": [],
   "source": []
  },
  {
   "cell_type": "code",
   "execution_count": 239,
   "metadata": {},
   "outputs": [],
   "source": [
    "final_recommended_articles_id = [article_id for article_id in article_vocab[labels]][:no_of_recommends]"
   ]
  },
  {
   "cell_type": "code",
   "execution_count": 240,
   "metadata": {},
   "outputs": [
    {
     "data": {
      "text/plain": [
       "[array([0.01444536, 0.01480156, 0.88979321, 0.03722346, 0.01444537,\n",
       "        0.01468933, 0.01460172]),\n",
       " array([0.01460517, 0.79366538, 0.1331954 , 0.01466423, 0.01460516,\n",
       "        0.01463757, 0.01462709]),\n",
       " array([0.01444536, 0.01480156, 0.88979321, 0.03722346, 0.01444537,\n",
       "        0.01468933, 0.01460172]),\n",
       " array([0.01444536, 0.01480156, 0.88979321, 0.03722346, 0.01444537,\n",
       "        0.01468933, 0.01460172]),\n",
       " array([0.01444536, 0.01480156, 0.88979321, 0.03722346, 0.01444537,\n",
       "        0.01468933, 0.01460172])]"
      ]
     },
     "execution_count": 240,
     "metadata": {},
     "output_type": "execute_result"
    }
   ],
   "source": [
    "final_recommended_articles_id"
   ]
  },
  {
   "cell_type": "code",
   "execution_count": 355,
   "metadata": {},
   "outputs": [
    {
     "name": "stdout",
     "output_type": "stream",
     "text": [
      "Recommended-Articles :\n",
      "\n"
     ]
    }
   ],
   "source": [
    "print('Recommended-Articles :\\n')\n",
    "recommends = []\n",
    "for i in range (7) :\n",
    "    recommends.append(news[\"Title\"][labels==i][:3])"
   ]
  },
  {
   "cell_type": "code",
   "execution_count": 356,
   "metadata": {},
   "outputs": [
    {
     "data": {
      "text/plain": [
       "[51     Dhanush set to make Hollywood debut  to share ...\n",
       " 129       Kathakali movie review  Live audience response\n",
       " 142     Amar Akbar Anthony  review  Fun filled family...\n",
       " Name: Title, dtype: object,\n",
       " 31    Ajith set to take up Vishnuvardhan s historica...\n",
       " 32     Theri  teaser  Will Vijay starrer clip reach ...\n",
       " 36         Anjala  movie review  Live audience response\n",
       " Name: Title, dtype: object,\n",
       " 30    Box office collection   Jil Jung Juk    Deadpo...\n",
       " 40     Theri  teaser  Video of Vijay starrer shatter...\n",
       " 43     Theri  teaser  Video of Vijay starrer crosses...\n",
       " Name: Title, dtype: object,\n",
       " 1     Pratibha Tiwari molested on busy road   Saath ...\n",
       " 35     Jil Jung Juk  movie review  Live audience res...\n",
       " 75    Jallikattu row  I m not a brand ambassador of ...\n",
       " Name: Title, dtype: object,\n",
       " 6      Infosys shares likely to fall on Tuesday after...\n",
       " 130           Gethu movie review  Live audience response\n",
       " 238     Su Su Sudhi Vathmeekam  review  Live audience...\n",
       " Name: Title, dtype: object,\n",
       " 42    Vijay 61  Atlee being rewarded even before the...\n",
       " 44    Prakash Raj-Pony Verma welcome a baby boy  Sid...\n",
       " 46    Priyadarshan set to remake Vetrimaaran s  Visa...\n",
       " Name: Title, dtype: object,\n",
       " 0    14 dead after bus falls into canal in Telangan...\n",
       " 2    US  South Korea begin joint military drill ami...\n",
       " 3    Illegal construction in Bengaluru  Will my hou...\n",
       " Name: Title, dtype: object]"
      ]
     },
     "execution_count": 356,
     "metadata": {},
     "output_type": "execute_result"
    }
   ],
   "source": [
    "recommends"
   ]
  },
  {
   "cell_type": "code",
   "execution_count": null,
   "metadata": {},
   "outputs": [],
   "source": []
  },
  {
   "cell_type": "code",
   "execution_count": null,
   "metadata": {},
   "outputs": [],
   "source": []
  },
  {
   "cell_type": "code",
   "execution_count": null,
   "metadata": {},
   "outputs": [],
   "source": []
  }
 ],
 "metadata": {
  "kernelspec": {
   "display_name": "Python 3",
   "language": "python",
   "name": "python3"
  },
  "language_info": {
   "codemirror_mode": {
    "name": "ipython",
    "version": 3
   },
   "file_extension": ".py",
   "mimetype": "text/x-python",
   "name": "python",
   "nbconvert_exporter": "python",
   "pygments_lexer": "ipython3",
   "version": "3.6.6"
  }
 },
 "nbformat": 4,
 "nbformat_minor": 2
}
