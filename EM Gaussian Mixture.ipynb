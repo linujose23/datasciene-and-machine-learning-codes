{
 "cells": [
  {
   "cell_type": "code",
   "execution_count": 14,
   "metadata": {},
   "outputs": [
    {
     "name": "stdout",
     "output_type": "stream",
     "text": [
      "Variance: [4.00888958 3.4258594  2.75790786] Mu: [ 2.08787337 -9.05697133  7.07570629] Probability: [[6.27568165e-01 8.96522702e-02 1.51452996e-02 ... 2.27039122e-04\n",
      "  4.54015416e-05 6.97943020e-05]\n",
      " [5.19833172e-12 9.30864143e-16 8.97471541e-19 ... 9.99772961e-01\n",
      "  9.99954598e-01 9.99930206e-01]\n",
      " [3.72431835e-01 9.10347730e-01 9.84854700e-01 ... 7.81556270e-15\n",
      "  3.23360041e-16 7.60832969e-16]]\n"
     ]
    }
   ],
   "source": [
    "import numpy as np\n",
    "from sklearn.datasets.samples_generator import make_blobs\n",
    "import scipy.stats as sc\n",
    "ns = 1000\n",
    "nof = 3\n",
    "noc = 3\n",
    "x,y = make_blobs(n_samples=ns,n_features=nof,centers=noc,cluster_std=1.7)\n",
    "x1 = x[:,0]\n",
    "x2 = x[:,1]\n",
    "x3 = x[:,2]\n",
    "x = np.hstack([x1,x2,x3])\n",
    "\n",
    "#alpha = np.ones(noc)*.5\n",
    "mu = np.random.random(noc)*10 \n",
    "sigma = np.ones(noc)*10\n",
    "\n",
    "bayes = np.ones((noc,len(x)))\n",
    "\n",
    "c = np.ones(noc)\n",
    "lr = 0.4\n",
    "for i in range(100):\n",
    "    \n",
    "    #Estep \n",
    "    \n",
    "    bayes[0] = sc.norm.pdf(x,mu[0],sigma[0])\n",
    "    #c[0] = np.sum(w_mt[0],axis=0) \n",
    "    #w_mt[0] = w_mt[0]/c[0]\n",
    "    \n",
    "    bayes[1] = sc.norm.pdf(x,mu[1],sigma[1])\n",
    "    #c[1] = np.sum(w_mt[1],axis=0) \n",
    "    #w_mt[1] = w_mt[1]/c[1]\n",
    "    \n",
    "    bayes[2] = sc.norm.pdf(x,mu[2],sigma[2])\n",
    "    Sum = np.sum(bayes,axis=0) \n",
    "    bayes = bayes/Sum\n",
    "    \n",
    "    \n",
    "    #M-step\n",
    "    \n",
    "    #alpha = np.sum(bayes,axis=1)/len(x)\n",
    "    mu = np.sum(bayes*x,axis=1)/np.sum(bayes,axis=1)\n",
    "\n",
    "    sigma = np.sqrt(np.sum(bayes*((x - mu[:,np.newaxis])**2),axis=1)/np.sum(bayes,axis=1))\n",
    "    \n",
    "    variance = sigma**2\n",
    "    \n",
    "print(\"Variance:\",variance,\"Mu:\",mu,\"Probability:\",bayes)"
   ]
  },
  {
   "cell_type": "code",
   "execution_count": 15,
   "metadata": {},
   "outputs": [],
   "source": [
    "from sklearn.mixture import GaussianMixture"
   ]
  },
  {
   "cell_type": "code",
   "execution_count": 16,
   "metadata": {},
   "outputs": [],
   "source": [
    "model = GaussianMixture(n_components=3)"
   ]
  },
  {
   "cell_type": "code",
   "execution_count": 17,
   "metadata": {},
   "outputs": [],
   "source": [
    "x= x.reshape(3000,1)"
   ]
  },
  {
   "cell_type": "code",
   "execution_count": 18,
   "metadata": {},
   "outputs": [
    {
     "data": {
      "text/plain": [
       "GaussianMixture(covariance_type='full', init_params='kmeans', max_iter=100,\n",
       "        means_init=None, n_components=3, n_init=1, precisions_init=None,\n",
       "        random_state=None, reg_covar=1e-06, tol=0.001, verbose=0,\n",
       "        verbose_interval=10, warm_start=False, weights_init=None)"
      ]
     },
     "execution_count": 18,
     "metadata": {},
     "output_type": "execute_result"
    }
   ],
   "source": [
    "model.fit(x)"
   ]
  },
  {
   "cell_type": "code",
   "execution_count": 19,
   "metadata": {},
   "outputs": [
    {
     "data": {
      "text/plain": [
       "array([[[3.4424951 ]],\n",
       "\n",
       "       [[3.40126375]],\n",
       "\n",
       "       [[2.971005  ]]])"
      ]
     },
     "execution_count": 19,
     "metadata": {},
     "output_type": "execute_result"
    }
   ],
   "source": [
    "model.covariances_"
   ]
  },
  {
   "cell_type": "code",
   "execution_count": 20,
   "metadata": {},
   "outputs": [
    {
     "data": {
      "text/plain": [
       "array([[ 1.84088511],\n",
       "       [-9.06132405],\n",
       "       [ 6.92773027]])"
      ]
     },
     "execution_count": 20,
     "metadata": {},
     "output_type": "execute_result"
    }
   ],
   "source": [
    "model.means_"
   ]
  },
  {
   "cell_type": "code",
   "execution_count": null,
   "metadata": {},
   "outputs": [],
   "source": []
  },
  {
   "cell_type": "code",
   "execution_count": null,
   "metadata": {},
   "outputs": [],
   "source": []
  },
  {
   "cell_type": "code",
   "execution_count": null,
   "metadata": {},
   "outputs": [],
   "source": []
  },
  {
   "cell_type": "code",
   "execution_count": null,
   "metadata": {},
   "outputs": [],
   "source": []
  }
 ],
 "metadata": {
  "kernelspec": {
   "display_name": "Python 3",
   "language": "python",
   "name": "python3"
  },
  "language_info": {
   "codemirror_mode": {
    "name": "ipython",
    "version": 3
   },
   "file_extension": ".py",
   "mimetype": "text/x-python",
   "name": "python",
   "nbconvert_exporter": "python",
   "pygments_lexer": "ipython3",
   "version": "3.6.5"
  }
 },
 "nbformat": 4,
 "nbformat_minor": 2
}
