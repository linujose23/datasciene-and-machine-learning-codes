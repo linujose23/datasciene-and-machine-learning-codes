{
 "cells": [
  {
   "cell_type": "code",
   "execution_count": 20,
   "metadata": {
    "scrolled": true
   },
   "outputs": [
    {
     "name": "stdout",
     "output_type": "stream",
     "text": [
      "[[-1.03257762]\n",
      " [-1.52317349]\n",
      " [-0.7753955 ]\n",
      " [-0.1849952 ]\n",
      " [ 1.44015465]]\n"
     ]
    }
   ],
   "source": [
    "#from sklearn.preprocessing import MinMaxScaler\n",
    "import numpy as np\n",
    "\n",
    "sample = 100\n",
    "\n",
    "xzero = np.ones(100)\n",
    "x0 = xzero.reshape(100,1)\n",
    "\n",
    "xone = np.random.randint(1,50,sample)\n",
    "x1 = xone.reshape(100,1)\n",
    "\n",
    "xtwo = np.random.randint(1,100,sample)\n",
    "x2 = xtwo.reshape(100,1)\n",
    "\n",
    "xthree = np.random.randint(1,150,sample)\n",
    "x3 = xthree.reshape(100,1)\n",
    "\n",
    "xfour = np.random.randint(1,200,sample)\n",
    "x4 = xfour.reshape(100,1)\n",
    "\n",
    "\n",
    "noise = np.random.randn(sample)\n",
    "\n",
    "noise = noise.reshape(100,1)\n",
    "\n",
    "x1 = (x1 - min(x1))/(max(x1) - min(x1))\n",
    "\n",
    "x2 = (x2 - min(x2))/(max(x2) - min(x2))\n",
    "\n",
    "x3 = (x3 - min(x3))/(max(x3) - min(x3))\n",
    "\n",
    "x4 = (x4 - min(x4))/(max(x4) - min(x4))\n",
    "\n",
    "\n",
    "\n",
    "theta0 = np.array([0,2,3,4,5]) \n",
    "\n",
    "xmatrix = np.column_stack((x0,x1,x2,x3,x4))\n",
    "\n",
    "y = xmatrix.dot(theta0) + noise\n",
    "\n",
    "theta1 = np.array(np.random.randn(5))\n",
    "theta1 = theta1.reshape(5,1)\n",
    "\n",
    "\n",
    "lr = 0.000000002\n",
    "\n",
    "hypo = xmatrix.dot(theta0)\n",
    "\n",
    "cost = (1/(2*sample)*np.sum((hypo-y)**2))\n",
    "\n",
    "for i in range(1000):\n",
    "    \n",
    "    temp = theta1 - lr*(1/sample)*(np.sum((hypo-y).dot(xmatrix)))\n",
    "    \n",
    "    \n",
    "    theta1 = temp\n",
    "    hypo = xmatrix.dot(theta1)\n",
    "            \n",
    "    cost = (1/(2*sample)*np.sum((hypo-y)**2))\n",
    "    \n",
    "print(theta1)\n",
    "    "
   ]
  },
  {
   "cell_type": "markdown",
   "metadata": {},
   "source": []
  },
  {
   "cell_type": "code",
   "execution_count": null,
   "metadata": {},
   "outputs": [],
   "source": []
  },
  {
   "cell_type": "code",
   "execution_count": null,
   "metadata": {},
   "outputs": [],
   "source": []
  },
  {
   "cell_type": "code",
   "execution_count": null,
   "metadata": {},
   "outputs": [],
   "source": []
  },
  {
   "cell_type": "code",
   "execution_count": null,
   "metadata": {},
   "outputs": [],
   "source": []
  }
 ],
 "metadata": {
  "kernelspec": {
   "display_name": "Python 3",
   "language": "python",
   "name": "python3"
  },
  "language_info": {
   "codemirror_mode": {
    "name": "ipython",
    "version": 3
   },
   "file_extension": ".py",
   "mimetype": "text/x-python",
   "name": "python",
   "nbconvert_exporter": "python",
   "pygments_lexer": "ipython3",
   "version": "3.6.5"
  }
 },
 "nbformat": 4,
 "nbformat_minor": 2
}
