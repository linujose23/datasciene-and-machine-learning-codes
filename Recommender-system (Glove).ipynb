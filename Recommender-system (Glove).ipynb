{
 "cells": [
  {
   "cell_type": "code",
   "execution_count": 33,
   "metadata": {},
   "outputs": [],
   "source": [
    "import numpy as np\n",
    "import pandas as pd\n",
    "import seaborn as sns\n",
    "import nltk\n",
    "from nltk.tokenize.toktok import ToktokTokenizer\n",
    "from nltk.corpus import stopwords\n",
    "import pickle as pk\n",
    "from sklearn.feature_extraction.text import TfidfVectorizer\n",
    "from sklearn.metrics.pairwise import cosine_similarity\n",
    "import re\n",
    "from nltk.stem.snowball import SnowballStemmer\n",
    "import nltk\n",
    "import pickle\n",
    "from sklearn.decomposition import LatentDirichletAllocation\n",
    "from sklearn.cluster import KMeans\n",
    "#from glove import Corpus,glove\n",
    "import gensim\n",
    "from gensim import corpora, models\n",
    "from collections import Counter\n",
    "from nltk.corpus import stopwords\n",
    "from scipy.sparse import csr_matrix\n",
    "stemmer = SnowballStemmer('english')\n",
    "news = pd.read_csv('news_articles.csv')\n",
    "news.head()\n",
    "tokenizer = ToktokTokenizer()\n",
    "stop_words = set(stopwords.words('english'))\n",
    "ntopics = 8"
   ]
  },
  {
   "cell_type": "code",
   "execution_count": 2,
   "metadata": {},
   "outputs": [],
   "source": [
    "glove_file = '/home/linu/glove.6B.50d.txt'"
   ]
  },
  {
   "cell_type": "code",
   "execution_count": 115,
   "metadata": {},
   "outputs": [],
   "source": [
    "news = pd.read_csv('news_articles.csv')\n",
    "news = news[['Article_Id','Title','Content']].dropna()\n",
    "titles = news['Title']\n",
    "contents = news[\"Content\"].tolist()"
   ]
  },
  {
   "cell_type": "code",
   "execution_count": 4,
   "metadata": {},
   "outputs": [
    {
     "data": {
      "text/plain": [
       "'At least 14 people died and 17 others were injured after a bus travelling from Hyderabad to Kakinada plunged into a canal from a bridge on the accident-prone stretch of the Hyderabad-Khammam highway in Telangana early Monday morning \\r\\nThe injured were admitted to the Government General Hospital for treatment \\r\\n\\r\\n\\r\\nSeven people died on the spot and the others succumbed to injuries while undergoing treatment at the hospital  The passengers belonged to the East and West Godavari districts of Andhra Pradesh \\r\\nThe bus  owned by private operator Yatra Genie  commenced its journey from Hyderabad at 11 30 p m  on Sunday  Khammam Superintendent of Police Shah Nawaz Khan was quoted by the Hindustan Times as saying \\r\\nThe accident happened around 2 30 a m  when the driver slammed the brakes to avoid a collision with another vehicle coming from the opposite direction on a bridge over Nagarjunsagar project left canal at Nayankangudem village in Khammam district  the daily reported  The bus hit the parapet wall of the bridge and nose-dived into the canal \\r\\nThe driver of the bus was apparently driving at high speed due to which he lost control of the vehicle  following which it fell into the canal under Kusumanchi mandal  the Deccan Herald reported \\r\\nTravellers immediately informed the police who rushed to the accident scene and began the rescue operations '"
      ]
     },
     "execution_count": 4,
     "metadata": {},
     "output_type": "execute_result"
    }
   ],
   "source": [
    "contents[0]"
   ]
  },
  {
   "cell_type": "code",
   "execution_count": 5,
   "metadata": {},
   "outputs": [],
   "source": [
    "def clean_doc(doc):\n",
    "    \n",
    "    document = re.sub('[^\\w_\\s-]', ' ',doc) #remove punctuation marks and other symbols\n",
    "    tokens = nltk.word_tokenize(doc)\n",
    "    cleaned_corpus = ' '.join([i for i in tokens])\n",
    "    return cleaned_corpus"
   ]
  },
  {
   "cell_type": "code",
   "execution_count": 6,
   "metadata": {},
   "outputs": [],
   "source": [
    "cleaned_articles = list(map(clean_doc,contents))"
   ]
  },
  {
   "cell_type": "code",
   "execution_count": 7,
   "metadata": {},
   "outputs": [
    {
     "data": {
      "text/plain": [
       "'At least 14 people died and 17 others were injured after a bus travelling from Hyderabad to Kakinada plunged into a canal from a bridge on the accident-prone stretch of the Hyderabad-Khammam highway in Telangana early Monday morning The injured were admitted to the Government General Hospital for treatment Seven people died on the spot and the others succumbed to injuries while undergoing treatment at the hospital The passengers belonged to the East and West Godavari districts of Andhra Pradesh The bus owned by private operator Yatra Genie commenced its journey from Hyderabad at 11 30 p m on Sunday Khammam Superintendent of Police Shah Nawaz Khan was quoted by the Hindustan Times as saying The accident happened around 2 30 a m when the driver slammed the brakes to avoid a collision with another vehicle coming from the opposite direction on a bridge over Nagarjunsagar project left canal at Nayankangudem village in Khammam district the daily reported The bus hit the parapet wall of the bridge and nose-dived into the canal The driver of the bus was apparently driving at high speed due to which he lost control of the vehicle following which it fell into the canal under Kusumanchi mandal the Deccan Herald reported Travellers immediately informed the police who rushed to the accident scene and began the rescue operations'"
      ]
     },
     "execution_count": 7,
     "metadata": {},
     "output_type": "execute_result"
    }
   ],
   "source": [
    "cleaned_articles[0]"
   ]
  },
  {
   "cell_type": "code",
   "execution_count": 8,
   "metadata": {},
   "outputs": [],
   "source": [
    "#stop_words"
   ]
  },
  {
   "cell_type": "code",
   "execution_count": 9,
   "metadata": {},
   "outputs": [],
   "source": [
    "article_vocab = { }\n",
    "\n",
    "article_vocab = enumerate(cleaned_articles)  #enumerating articles vovcab gives us  keys and indexes of article_vocab"
   ]
  },
  {
   "cell_type": "code",
   "execution_count": 10,
   "metadata": {},
   "outputs": [],
   "source": [
    "total_words = []\n",
    "\n",
    "for i in range(0,len(cleaned_articles)):\n",
    "        tokens = nltk.word_tokenize(cleaned_articles[i])\n",
    "        \n",
    "        for w in tokens :\n",
    "            total_words.append(w)\n",
    "counts = Counter(total_words)"
   ]
  },
  {
   "cell_type": "code",
   "execution_count": 119,
   "metadata": {},
   "outputs": [],
   "source": [
    "#counts  # we used counts function to see how many times a word is repeated but here we used it enumerating it later"
   ]
  },
  {
   "cell_type": "code",
   "execution_count": 12,
   "metadata": {},
   "outputs": [],
   "source": [
    "vocab = {j: i for i,j in enumerate(counts.keys())} #here we create a vocabulary of our docs or of the words in our docs"
   ]
  },
  {
   "cell_type": "code",
   "execution_count": 13,
   "metadata": {},
   "outputs": [],
   "source": [
    "final_vocab = [i for i in vocab.keys() if i not in stop_words] #removing stop words to lighten the matrix "
   ]
  },
  {
   "cell_type": "code",
   "execution_count": 14,
   "metadata": {},
   "outputs": [],
   "source": [
    "final_vocab_dict =  {j: i for i,j in enumerate(final_vocab)}  #enumerating after we remove the stop words"
   ]
  },
  {
   "cell_type": "code",
   "execution_count": 15,
   "metadata": {},
   "outputs": [
    {
     "data": {
      "text/plain": [
       "56575"
      ]
     },
     "execution_count": 15,
     "metadata": {},
     "output_type": "execute_result"
    }
   ],
   "source": [
    "len(final_vocab_dict)"
   ]
  },
  {
   "cell_type": "code",
   "execution_count": 16,
   "metadata": {},
   "outputs": [],
   "source": [
    "#final_vocab = {i for i in enumerate(final_vocab)}"
   ]
  },
  {
   "cell_type": "code",
   "execution_count": 17,
   "metadata": {},
   "outputs": [],
   "source": [
    "#giving self vocab from counts into tfidf matrix to get the only the words which are needed \n",
    "\n",
    "tfmat = TfidfVectorizer(min_df=1,vocabulary=final_vocab_dict)"
   ]
  },
  {
   "cell_type": "code",
   "execution_count": 18,
   "metadata": {},
   "outputs": [],
   "source": [
    "tfidf_matrix = tfmat.fit_transform(cleaned_articles)"
   ]
  },
  {
   "cell_type": "code",
   "execution_count": 19,
   "metadata": {},
   "outputs": [
    {
     "data": {
      "text/plain": [
       "(4831, 56575)"
      ]
     },
     "execution_count": 19,
     "metadata": {},
     "output_type": "execute_result"
    }
   ],
   "source": [
    "tfidf_matrix.shape    #4831 docs and 56575 words after removing docs"
   ]
  },
  {
   "cell_type": "code",
   "execution_count": 20,
   "metadata": {},
   "outputs": [],
   "source": [
    "df = pd.read_csv('glove.6B.50d.txt', sep=\" \", quoting=3, header=None, index_col=0)\n",
    "glove = {key: val.values for key, val in df.T.items()}"
   ]
  },
  {
   "cell_type": "code",
   "execution_count": 21,
   "metadata": {},
   "outputs": [],
   "source": [
    "glove_Vocab = glove.keys()   #fetching keys from glove "
   ]
  },
  {
   "cell_type": "code",
   "execution_count": 22,
   "metadata": {},
   "outputs": [],
   "source": [
    "glove_values = glove.values()  #fetching values from glove"
   ]
  },
  {
   "cell_type": "code",
   "execution_count": 23,
   "metadata": {},
   "outputs": [
    {
     "data": {
      "text/plain": [
       "399998"
      ]
     },
     "execution_count": 23,
     "metadata": {},
     "output_type": "execute_result"
    }
   ],
   "source": [
    "len(glove_values)"
   ]
  },
  {
   "cell_type": "code",
   "execution_count": 24,
   "metadata": {},
   "outputs": [],
   "source": [
    "final_vocab_list = [i.lower() for i in final_vocab_dict.keys()]  #lowering everything in the words fetched"
   ]
  },
  {
   "cell_type": "code",
   "execution_count": 25,
   "metadata": {
    "scrolled": false
   },
   "outputs": [
    {
     "data": {
      "text/plain": [
       "56575"
      ]
     },
     "execution_count": 25,
     "metadata": {},
     "output_type": "execute_result"
    }
   ],
   "source": [
    "len(final_vocab_list)"
   ]
  },
  {
   "cell_type": "code",
   "execution_count": 26,
   "metadata": {},
   "outputs": [],
   "source": [
    "final_dict = []\n",
    "\n",
    "for i in final_vocab_list:\n",
    "        if i in list(glove):\n",
    "            final_dict.append(list(glove[i]))\n",
    "        else :\n",
    "            final_dict.append([0]*50)"
   ]
  },
  {
   "cell_type": "code",
   "execution_count": null,
   "metadata": {},
   "outputs": [],
   "source": []
  },
  {
   "cell_type": "code",
   "execution_count": 28,
   "metadata": {},
   "outputs": [],
   "source": [
    "tfidf_matrix_sparse = csr_matrix(tfidf_matrix) #we put tfidfmatrix into a sparse matrix"
   ]
  },
  {
   "cell_type": "code",
   "execution_count": 32,
   "metadata": {},
   "outputs": [
    {
     "data": {
      "text/plain": [
       "(4831, 56575)"
      ]
     },
     "execution_count": 32,
     "metadata": {},
     "output_type": "execute_result"
    }
   ],
   "source": [
    "tfidf_matrix_sparse.shape"
   ]
  },
  {
   "cell_type": "code",
   "execution_count": 37,
   "metadata": {},
   "outputs": [],
   "source": [
    "# we put values in sparse matrix so that it processes fast and only return the location and value of non zero element\n",
    "sparse_matrix = csr_matrix(final_dict)"
   ]
  },
  {
   "cell_type": "code",
   "execution_count": 38,
   "metadata": {},
   "outputs": [
    {
     "data": {
      "text/plain": [
       "(56575, 50)"
      ]
     },
     "execution_count": 38,
     "metadata": {},
     "output_type": "execute_result"
    }
   ],
   "source": [
    "sparse_matrix.shape"
   ]
  },
  {
   "cell_type": "code",
   "execution_count": null,
   "metadata": {},
   "outputs": [],
   "source": []
  },
  {
   "cell_type": "code",
   "execution_count": 42,
   "metadata": {},
   "outputs": [],
   "source": [
    "tf_dot_gloveval = np.dot(tfidf_matrix_sparse,sparse_matrix) "
   ]
  },
  {
   "cell_type": "code",
   "execution_count": 43,
   "metadata": {},
   "outputs": [
    {
     "data": {
      "text/plain": [
       "(4831, 50)"
      ]
     },
     "execution_count": 43,
     "metadata": {},
     "output_type": "execute_result"
    }
   ],
   "source": [
    "tf_dot_gloveval.shape  #returns 4831 docs from tfidfmatrix and 50 dimension values from glove"
   ]
  },
  {
   "cell_type": "code",
   "execution_count": 63,
   "metadata": {},
   "outputs": [],
   "source": [
    "kmeans = KMeans(n_clusters=8,random_state=0,max_iter=4000) #we cluster it all to recommend different all of news"
   ]
  },
  {
   "cell_type": "code",
   "execution_count": 64,
   "metadata": {},
   "outputs": [
    {
     "data": {
      "text/plain": [
       "KMeans(algorithm='auto', copy_x=True, init='k-means++', max_iter=4000,\n",
       "    n_clusters=8, n_init=10, n_jobs=None, precompute_distances='auto',\n",
       "    random_state=0, tol=0.0001, verbose=0)"
      ]
     },
     "execution_count": 64,
     "metadata": {},
     "output_type": "execute_result"
    }
   ],
   "source": [
    "kmeans.fit(tf_dot_gloveval)"
   ]
  },
  {
   "cell_type": "code",
   "execution_count": 105,
   "metadata": {},
   "outputs": [],
   "source": [
    "labels = kmeans.labels_"
   ]
  },
  {
   "cell_type": "code",
   "execution_count": null,
   "metadata": {},
   "outputs": [],
   "source": []
  },
  {
   "cell_type": "code",
   "execution_count": 106,
   "metadata": {},
   "outputs": [],
   "source": [
    "ids = np.array(news['Article_Id'])"
   ]
  },
  {
   "cell_type": "code",
   "execution_count": 117,
   "metadata": {},
   "outputs": [],
   "source": [
    "recommended = [ ]\n",
    "\n",
    "for i in range(8):\n",
    "    \n",
    "    recommended.append(titles[labels==i][:3])"
   ]
  },
  {
   "cell_type": "code",
   "execution_count": 118,
   "metadata": {},
   "outputs": [
    {
     "data": {
      "text/plain": [
       "[2    US  South Korea begin joint military drill ami...\n",
       " 3    Illegal construction in Bengaluru  Will my hou...\n",
       " 7    Dialogue crucial in finding permanent solution...\n",
       " Name: Title, dtype: object,\n",
       " 55     Theri  star Vijay invites Nivin Pauly  apprec...\n",
       " 71    Pawan Kalyan s Sardaar Gabbar Singh teaser  3 ...\n",
       " 78    Rajini Murugan star Sivakarthikeyan sings prai...\n",
       " Name: Title, dtype: object,\n",
       " 17    Mumbai-Goa bridge collapse  What we know so fa...\n",
       " 30    Box office collection   Jil Jung Juk    Deadpo...\n",
       " 33         14 killed  over 30 injured in China bus fire\n",
       " Name: Title, dtype: object,\n",
       " 6      Infosys shares likely to fall on Tuesday after...\n",
       " 69      Sardaar Gabbar Singh  pre-release business  P...\n",
       " 159    Nannaku Prematho  Soggade Chinni Nayana may no...\n",
       " Name: Title, dtype: object,\n",
       " 0    14 dead after bus falls into canal in Telangan...\n",
       " 1    Pratibha Tiwari molested on busy road   Saath ...\n",
       " 4    Punjab Gau Rakshak Dal chief held for assaulti...\n",
       " Name: Title, dtype: object,\n",
       " 858     ChennaiRains  Facebook activates safety check...\n",
       " 870    Gionee S6s with 8MP front camera  LED flash la...\n",
       " 872    Samsung Galaxy C9 testing underway  key detail...\n",
       " Name: Title, dtype: object,\n",
       " 454     Saina Nehwal and Sania Mirza to be honoured wi...\n",
       " 660     Ajith Overpowers Vijay  Simbu  Surya  Vikram t...\n",
       " 1485    Rio Olympics  People in India told WADA to rev...\n",
       " Name: Title, dtype: object,\n",
       " 27     Star Trek  actor Anton Yelchin dead in fatal ...\n",
       " 31    Ajith set to take up Vishnuvardhan s historica...\n",
       " 32     Theri  teaser  Will Vijay starrer clip reach ...\n",
       " Name: Title, dtype: object]"
      ]
     },
     "execution_count": 118,
     "metadata": {},
     "output_type": "execute_result"
    }
   ],
   "source": [
    "recommended"
   ]
  },
  {
   "cell_type": "code",
   "execution_count": null,
   "metadata": {},
   "outputs": [],
   "source": []
  },
  {
   "cell_type": "code",
   "execution_count": null,
   "metadata": {},
   "outputs": [],
   "source": []
  },
  {
   "cell_type": "code",
   "execution_count": null,
   "metadata": {},
   "outputs": [],
   "source": []
  },
  {
   "cell_type": "code",
   "execution_count": null,
   "metadata": {},
   "outputs": [],
   "source": []
  },
  {
   "cell_type": "code",
   "execution_count": null,
   "metadata": {},
   "outputs": [],
   "source": []
  },
  {
   "cell_type": "code",
   "execution_count": null,
   "metadata": {},
   "outputs": [],
   "source": []
  },
  {
   "cell_type": "code",
   "execution_count": null,
   "metadata": {},
   "outputs": [],
   "source": []
  }
 ],
 "metadata": {
  "kernelspec": {
   "display_name": "Python 3",
   "language": "python",
   "name": "python3"
  },
  "language_info": {
   "codemirror_mode": {
    "name": "ipython",
    "version": 3
   },
   "file_extension": ".py",
   "mimetype": "text/x-python",
   "name": "python",
   "nbconvert_exporter": "python",
   "pygments_lexer": "ipython3",
   "version": "3.7.0"
  }
 },
 "nbformat": 4,
 "nbformat_minor": 2
}
