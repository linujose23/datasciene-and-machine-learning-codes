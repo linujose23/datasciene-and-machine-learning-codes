{
 "cells": [
  {
   "cell_type": "code",
   "execution_count": 3,
   "metadata": {
    "scrolled": true
   },
   "outputs": [
    {
     "data": {
      "text/plain": [
       "Text(0,0.5,'y axis')"
      ]
     },
     "execution_count": 3,
     "metadata": {},
     "output_type": "execute_result"
    },
    {
     "data": {
      "image/png": "[encoded data removed]",
      "text/plain": [
       "<Figure size 432x288 with 1 Axes>"
      ]
     },
     "metadata": {},
     "output_type": "display_data"
    }
   ],
   "source": [
    "from sklearn.preprocessing import MinMaxScaler\n",
    "\n",
    "import numpy as np\n",
    "\n",
    "import matplotlib.pyplot as plt\n",
    "%matplotlib inline\n",
    "\n",
    "sample = 100\n",
    "\n",
    "\n",
    "x = np.linspace(-3,3,sample)\n",
    "x=x.reshape(sample,1)\n",
    "z = (7.2)*(x)\n",
    "noise = 0.3*np.random.randn(sample).reshape(100,1)\n",
    "y = 1/(1+np.exp(-z))+noise\n",
    "\n",
    "plt.scatter(x,y)\n",
    "\n",
    "#lambdafunctionbelow\n",
    "y = (y >= 0.5)\n",
    "y = y*1\n",
    "plt.scatter(x,y)\n",
    "plt.xlabel('x axis')\n",
    "plt.ylabel('y axis')"
   ]
  },
  {
   "cell_type": "code",
   "execution_count": 4,
   "metadata": {
    "scrolled": true
   },
   "outputs": [
    {
     "name": "stdout",
     "output_type": "stream",
     "text": [
      "0.97\n",
      "[[71.87020093]\n",
      " [71.61391924]]\n"
     ]
    },
    {
     "data": {
      "text/plain": [
       "[<matplotlib.lines.Line2D at 0x7f8f6cac5a90>]"
      ]
     },
     "execution_count": 4,
     "metadata": {},
     "output_type": "execute_result"
    },
    {
     "data": {
      "image/png": "[encoded data removed]",
      "text/plain": [
       "<Figure size 432x288 with 1 Axes>"
      ]
     },
     "metadata": {},
     "output_type": "display_data"
    }
   ],
   "source": [
    "theta = np.random.random(2).reshape(2,1)\n",
    "lr = 0.1\n",
    "h = 1/(1+ np.exp(-z))\n",
    "\n",
    "\n",
    "j = (-1/(sample))*np.sum(y*np.log(h) + (1-y)*np.log(1-h))\n",
    "                    \n",
    "                         \n",
    "for i in range(10000):\n",
    "                         \n",
    "                         \n",
    "    temp = theta - lr*np.sum((h-y)*(x))\n",
    "    \n",
    "\n",
    "    theta = temp\n",
    "                         \n",
    "    h= 1/(1+np.exp(-z))\n",
    "    \n",
    "                         \n",
    "            \n",
    "print(np.mean(y==(h>=0.5)))\n",
    "print(theta)\n",
    "plt.scatter(x,y)\n",
    "plt.plot(x,h)           "
   ]
  },
  {
   "cell_type": "code",
   "execution_count": 7,
   "metadata": {},
   "outputs": [
    {
     "data": {
      "text/plain": [
       "0.07024186022884639"
      ]
     },
     "execution_count": 7,
     "metadata": {},
     "output_type": "execute_result"
    }
   ],
   "source": [
    "j"
   ]
  },
  {
   "cell_type": "code",
   "execution_count": null,
   "metadata": {},
   "outputs": [],
   "source": []
  },
  {
   "cell_type": "code",
   "execution_count": null,
   "metadata": {},
   "outputs": [],
   "source": []
  },
  {
   "cell_type": "code",
   "execution_count": null,
   "metadata": {},
   "outputs": [],
   "source": []
  }
 ],
 "metadata": {
  "kernelspec": {
   "display_name": "Python 3",
   "language": "python",
   "name": "python3"
  },
  "language_info": {
   "codemirror_mode": {
    "name": "ipython",
    "version": 3
   },
   "file_extension": ".py",
   "mimetype": "text/x-python",
   "name": "python",
   "nbconvert_exporter": "python",
   "pygments_lexer": "ipython3",
   "version": "3.6.5"
  }
 },
 "nbformat": 4,
 "nbformat_minor": 2
}
