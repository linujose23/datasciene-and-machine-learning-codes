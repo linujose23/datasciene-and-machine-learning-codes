{
 "cells": [
  {
   "cell_type": "code",
   "execution_count": 8,
   "metadata": {},
   "outputs": [
    {
     "data": {
      "text/plain": [
       "Text(0,0.5,'y axis')"
      ]
     },
     "execution_count": 8,
     "metadata": {},
     "output_type": "execute_result"
    },
    {
     "data": {
      "image/png": "[encoded data removed]",
      "text/plain": [
       "<Figure size 432x288 with 1 Axes>"
      ]
     },
     "metadata": {},
     "output_type": "display_data"
    }
   ],
   "source": [
    "from sklearn.preprocessing import MinMaxScaler\n",
    "import numpy as np\n",
    "import matplotlib.pyplot as plt\n",
    "\n",
    "np.random.seed(152)\n",
    "\n",
    "x = np.linspace(1,10,100).reshape(100,1)\n",
    "\n",
    "xd = np.concatenate((np.ones(100).reshape(100,1),x),axis=1)\n",
    "\n",
    "noise = np.random.randn(100).reshape(100,1)\n",
    "\n",
    "y = np.linspace(1,10,100).reshape(100,1)\n",
    "                         \n",
    "y = y + noise\n",
    "\n",
    "plt.scatter(x,y)\n",
    "plt.xlabel('x axis')\n",
    "plt.ylabel('y axis')"
   ]
  },
  {
   "cell_type": "code",
   "execution_count": 3,
   "metadata": {
    "scrolled": true
   },
   "outputs": [],
   "source": [
    "np.random.seed(12)\n",
    "theta = np.array(np.random.randint(1,4,size=2)).reshape(2,1)\n",
    "hypo = xd.dot(theta)\n",
    "cost = (hypo-y)**2"
   ]
  },
  {
   "cell_type": "code",
   "execution_count": 1,
   "metadata": {},
   "outputs": [
    {
     "ename": "IndentationError",
     "evalue": "expected an indented block (<ipython-input-1-6b5d817309bd>, line 4)",
     "output_type": "error",
     "traceback": [
      "\u001b[0;36m  File \u001b[0;32m\"<ipython-input-1-6b5d817309bd>\"\u001b[0;36m, line \u001b[0;32m4\u001b[0m\n\u001b[0;31m    temp0 = theta[0] - lr*(np.sum((hypo - y))\u001b[0m\n\u001b[0m        ^\u001b[0m\n\u001b[0;31mIndentationError\u001b[0m\u001b[0;31m:\u001b[0m expected an indented block\n"
     ]
    }
   ],
   "source": [
    "lr = 0.5\n",
    "\n",
    "for i in range(1):    \n",
    "temp0 = theta[0] - lr*(np.sum((hypo - y))\n",
    "temp1 = theta[1] - lr*np.sum((hypo - y)*x)\n",
    "theta[0] = temp0\n",
    "theta[1] = temp1\n",
    "\n",
    "hypo = theta[0] + theta[1]*x\n",
    "cost = (1/2*np.sum(hypo-y)**2)\n",
    "print(theta0,theta1)\n",
    "plt.scatter(x,y)\n",
    "plt.plot(x,hypo)"
   ]
  },
  {
   "cell_type": "code",
   "execution_count": null,
   "metadata": {},
   "outputs": [],
   "source": []
  },
  {
   "cell_type": "code",
   "execution_count": null,
   "metadata": {},
   "outputs": [],
   "source": []
  },
  {
   "cell_type": "code",
   "execution_count": null,
   "metadata": {},
   "outputs": [],
   "source": []
  },
  {
   "cell_type": "code",
   "execution_count": null,
   "metadata": {},
   "outputs": [],
   "source": []
  }
 ],
 "metadata": {
  "kernelspec": {
   "display_name": "Python 3",
   "language": "python",
   "name": "python3"
  },
  "language_info": {
   "codemirror_mode": {
    "name": "ipython",
    "version": 3
   },
   "file_extension": ".py",
   "mimetype": "text/x-python",
   "name": "python",
   "nbconvert_exporter": "python",
   "pygments_lexer": "ipython3",
   "version": "3.6.5"
  }
 },
 "nbformat": 4,
 "nbformat_minor": 2
}
