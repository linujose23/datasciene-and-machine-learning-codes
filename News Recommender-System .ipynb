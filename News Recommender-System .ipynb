{
 "cells": [
  {
   "cell_type": "code",
   "execution_count": 1,
   "metadata": {},
   "outputs": [],
   "source": [
    "import numpy as np\n",
    "import pandas as pd\n",
    "import seaborn as sns\n",
    "import nltk\n",
    "from nltk.tokenize.toktok import ToktokTokenizer\n",
    "from nltk.corpus import stopwords\n",
    "import gensim\n",
    "from gensim import corpora,models\n",
    "import pickle as pk\n",
    "from sklearn.feature_extraction.text import TfidfVectorizer\n",
    "from sklearn.metrics.pairwise import cosine_similarity\n",
    "import re\n",
    "from nltk.stem.snowball import SnowballStemmer\n",
    "import nltk\n",
    "import pickle\n",
    "from sklearn.decomposition import LatentDirichletAllocation\n",
    "from sklearn.cluster import KMeans\n",
    "from glove import Corpus,glove\n",
    "import gensim\n",
    "from gensim import corpora, models\n",
    "stemmer = SnowballStemmer('english')\n",
    "news = pd.read_csv('news_articles.csv')\n",
    "news.head()\n",
    "tokenizer = ToktokTokenizer()\n",
    "stop_words = set(stopwords.words('english'))\n",
    "\n",
    "ntopics = 8"
   ]
  },
  {
   "cell_type": "code",
   "execution_count": 2,
   "metadata": {},
   "outputs": [
    {
     "data": {
      "text/html": [
       "<div>\n",
       "<style scoped>\n",
       "    .dataframe tbody tr th:only-of-type {\n",
       "        vertical-align: middle;\n",
       "    }\n",
       "\n",
       "    .dataframe tbody tr th {\n",
       "        vertical-align: top;\n",
       "    }\n",
       "\n",
       "    .dataframe thead th {\n",
       "        text-align: right;\n",
       "    }\n",
       "</style>\n",
       "<table border=\"1\" class=\"dataframe\">\n",
       "  <thead>\n",
       "    <tr style=\"text-align: right;\">\n",
       "      <th></th>\n",
       "      <th>Article_Id</th>\n",
       "      <th>Title</th>\n",
       "      <th>Author</th>\n",
       "      <th>Date</th>\n",
       "      <th>Content</th>\n",
       "      <th>URL</th>\n",
       "    </tr>\n",
       "  </thead>\n",
       "  <tbody>\n",
       "    <tr>\n",
       "      <th>0</th>\n",
       "      <td>0</td>\n",
       "      <td>14 dead after bus falls into canal in Telangan...</td>\n",
       "      <td>Devyani Sultania</td>\n",
       "      <td>August 22, 2016 12:34 IST</td>\n",
       "      <td>At least 14 people died and 17 others were inj...</td>\n",
       "      <td>http://www.ibtimes.co.in/14-dead-after-bus-fal...</td>\n",
       "    </tr>\n",
       "    <tr>\n",
       "      <th>1</th>\n",
       "      <td>1</td>\n",
       "      <td>Pratibha Tiwari molested on busy road   Saath ...</td>\n",
       "      <td>Suparno Sarkar</td>\n",
       "      <td>August 22, 2016 19:47 IST</td>\n",
       "      <td>TV actress Pratibha Tiwari  who is best known ...</td>\n",
       "      <td>NaN</td>\n",
       "    </tr>\n",
       "    <tr>\n",
       "      <th>2</th>\n",
       "      <td>2</td>\n",
       "      <td>US  South Korea begin joint military drill ami...</td>\n",
       "      <td>Namrata Tripathi</td>\n",
       "      <td>August 22, 2016 18:10 IST</td>\n",
       "      <td>The United States and South Korea began a join...</td>\n",
       "      <td>http://www.ibtimes.co.in/us-south-korea-begin-...</td>\n",
       "    </tr>\n",
       "    <tr>\n",
       "      <th>3</th>\n",
       "      <td>3</td>\n",
       "      <td>Illegal construction in Bengaluru  Will my hou...</td>\n",
       "      <td>S V Krishnamachari</td>\n",
       "      <td>August 22, 2016 17:39 IST</td>\n",
       "      <td>The relentless drive by Bengaluru s  Bangalore...</td>\n",
       "      <td>http://www.ibtimes.co.in/illegal-construction-...</td>\n",
       "    </tr>\n",
       "    <tr>\n",
       "      <th>4</th>\n",
       "      <td>4</td>\n",
       "      <td>Punjab Gau Rakshak Dal chief held for assaulti...</td>\n",
       "      <td>Pranshu Rathee</td>\n",
       "      <td>August 22, 2016 17:34 IST</td>\n",
       "      <td>Punjab Gau Raksha Dal chief Satish Kumar and h...</td>\n",
       "      <td>http://www.ibtimes.co.in/punjab-gau-rakshak-da...</td>\n",
       "    </tr>\n",
       "  </tbody>\n",
       "</table>\n",
       "</div>"
      ],
      "text/plain": [
       "   Article_Id                                              Title  \\\n",
       "0           0  14 dead after bus falls into canal in Telangan...   \n",
       "1           1  Pratibha Tiwari molested on busy road   Saath ...   \n",
       "2           2  US  South Korea begin joint military drill ami...   \n",
       "3           3  Illegal construction in Bengaluru  Will my hou...   \n",
       "4           4  Punjab Gau Rakshak Dal chief held for assaulti...   \n",
       "\n",
       "               Author                       Date  \\\n",
       "0    Devyani Sultania  August 22, 2016 12:34 IST   \n",
       "1      Suparno Sarkar  August 22, 2016 19:47 IST   \n",
       "2    Namrata Tripathi  August 22, 2016 18:10 IST   \n",
       "3  S V Krishnamachari  August 22, 2016 17:39 IST   \n",
       "4      Pranshu Rathee  August 22, 2016 17:34 IST   \n",
       "\n",
       "                                             Content  \\\n",
       "0  At least 14 people died and 17 others were inj...   \n",
       "1  TV actress Pratibha Tiwari  who is best known ...   \n",
       "2  The United States and South Korea began a join...   \n",
       "3  The relentless drive by Bengaluru s  Bangalore...   \n",
       "4  Punjab Gau Raksha Dal chief Satish Kumar and h...   \n",
       "\n",
       "                                                 URL  \n",
       "0  http://www.ibtimes.co.in/14-dead-after-bus-fal...  \n",
       "1                                                NaN  \n",
       "2  http://www.ibtimes.co.in/us-south-korea-begin-...  \n",
       "3  http://www.ibtimes.co.in/illegal-construction-...  \n",
       "4  http://www.ibtimes.co.in/punjab-gau-rakshak-da...  "
      ]
     },
     "execution_count": 2,
     "metadata": {},
     "output_type": "execute_result"
    }
   ],
   "source": [
    "news.head()"
   ]
  },
  {
   "cell_type": "code",
   "execution_count": 3,
   "metadata": {},
   "outputs": [
    {
     "data": {
      "text/plain": [
       "(4831, 6)"
      ]
     },
     "execution_count": 3,
     "metadata": {},
     "output_type": "execute_result"
    }
   ],
   "source": [
    "news.shape"
   ]
  },
  {
   "cell_type": "code",
   "execution_count": 4,
   "metadata": {},
   "outputs": [],
   "source": [
    "articles_read = [2,7]\n",
    "no_of_recommends = 5\n",
    "passes = 5"
   ]
  },
  {
   "cell_type": "code",
   "execution_count": null,
   "metadata": {},
   "outputs": [],
   "source": []
  },
  {
   "cell_type": "code",
   "execution_count": 5,
   "metadata": {},
   "outputs": [],
   "source": [
    "news = news[['Article_Id','Title','Content']].dropna()\n",
    "contents = news[\"Content\"].tolist()"
   ]
  },
  {
   "cell_type": "code",
   "execution_count": 6,
   "metadata": {
    "scrolled": true
   },
   "outputs": [
    {
     "data": {
      "text/plain": [
       "'At least 14 people died and 17 others were injured after a bus travelling from Hyderabad to Kakinada plunged into a canal from a bridge on the accident-prone stretch of the Hyderabad-Khammam highway in Telangana early Monday morning \\r\\nThe injured were admitted to the Government General Hospital for treatment \\r\\n\\r\\n\\r\\nSeven people died on the spot and the others succumbed to injuries while undergoing treatment at the hospital  The passengers belonged to the East and West Godavari districts of Andhra Pradesh \\r\\nThe bus  owned by private operator Yatra Genie  commenced its journey from Hyderabad at 11 30 p m  on Sunday  Khammam Superintendent of Police Shah Nawaz Khan was quoted by the Hindustan Times as saying \\r\\nThe accident happened around 2 30 a m  when the driver slammed the brakes to avoid a collision with another vehicle coming from the opposite direction on a bridge over Nagarjunsagar project left canal at Nayankangudem village in Khammam district  the daily reported  The bus hit the parapet wall of the bridge and nose-dived into the canal \\r\\nThe driver of the bus was apparently driving at high speed due to which he lost control of the vehicle  following which it fell into the canal under Kusumanchi mandal  the Deccan Herald reported \\r\\nTravellers immediately informed the police who rushed to the accident scene and began the rescue operations '"
      ]
     },
     "execution_count": 6,
     "metadata": {},
     "output_type": "execute_result"
    }
   ],
   "source": [
    "contents[0]"
   ]
  },
  {
   "cell_type": "code",
   "execution_count": 7,
   "metadata": {},
   "outputs": [],
   "source": [
    "def clean_tokenize(document):\n",
    "    document = re.sub('[^\\w_\\s-]',' ',document)\n",
    "    tokens  = nltk.word_tokenize(document)\n",
    "    cleaned_article = ' '.join([stemmer.stem(item) for item in tokens])   #stemming the tokenized corpus\n",
    "    return cleaned_article"
   ]
  },
  {
   "cell_type": "code",
   "execution_count": 8,
   "metadata": {},
   "outputs": [],
   "source": [
    "cleaned_articles = list(map(clean_tokenize,contents)) "
   ]
  },
  {
   "cell_type": "code",
   "execution_count": 9,
   "metadata": {},
   "outputs": [
    {
     "data": {
      "text/plain": [
       "'at least 14 peopl die and 17 other were injur after a bus travel from hyderabad to kakinada plung into a canal from a bridg on the accident-pron stretch of the hyderabad-khammam highway in telangana earli monday morn the injur were admit to the govern general hospit for treatment seven peopl die on the spot and the other succumb to injuri while undergo treatment at the hospit the passeng belong to the east and west godavari district of andhra pradesh the bus own by privat oper yatra geni commenc it journey from hyderabad at 11 30 p m on sunday khammam superintend of polic shah nawaz khan was quot by the hindustan time as say the accid happen around 2 30 a m when the driver slam the brake to avoid a collis with anoth vehicl come from the opposit direct on a bridg over nagarjunsagar project left canal at nayankangudem villag in khammam district the daili report the bus hit the parapet wall of the bridg and nose-div into the canal the driver of the bus was appar drive at high speed due to which he lost control of the vehicl follow which it fell into the canal under kusumanchi mandal the deccan herald report travel immedi inform the polic who rush to the accid scene and began the rescu oper'"
      ]
     },
     "execution_count": 9,
     "metadata": {},
     "output_type": "execute_result"
    }
   ],
   "source": [
    "cleaned_articles[0]"
   ]
  },
  {
   "cell_type": "code",
   "execution_count": 10,
   "metadata": {},
   "outputs": [],
   "source": [
    "user_articles = ' '.join(cleaned_articles[i] for i in articles_read) "
   ]
  },
  {
   "cell_type": "code",
   "execution_count": 11,
   "metadata": {},
   "outputs": [
    {
     "data": {
      "text/plain": [
       "'the unit state and south korea began a joint militari drill on monday which prompt threat from north korea the latter has late receiv strong critic worldwid for defi sanction from the unit nation secur council unsc by launch sever ballist missil such action have led to tighter sanction for north korea by the un north korea consid the joint militari drill as prepar for invas and has threaten a pre-empt nuclear strike if the u s and south korea continu the oper it had also conduct a nuclear test in januari which further isol it the ulchi freedom guardian exercis will continu till sept 2 and around 25 000 u s troop are expect to join it the us-l un command militari armistic commiss said that it had notifi the north korean armi that the joint militari drill between the two nation was not provoc from this moment the first-strik combin unit of the korean peopl s armi keep themselv fulli readi to mount a preemptiv retaliatori strike at all enemi attack group involv in ulji freedom guardian a kpa spokesman said in a statement it was recent announc by south korea that the north s deputi ambassador in london had defect and arriv in seoul along with his famili the move dealt a blow to kim jong un the leader of the north korean regim prime minist narendra modi has express deep concern and pain at the unrest and unab violenc in kashmir modi has urg all polit parti to unanim support a perman and last solut within the framework of the constitut to the problem of jammu and kashmir prime minist modi highlight the need for dialogu for restor of normalci in the valley as the unrest that began sinc the kill of hizb-ul-mujahideen leader burhan wani on juli 8 enter the 45th day so far 68 peopl have been kill a 75-minute-long meet with a joint 20-member opposit deleg that was led by former j k chief minist omar abdullah and addit compris seven of abdullah s nation confer mlas along with congress legisl led by pcc chief g a mir and cpi m mla m y tarigami present a memorandum to prime minist modi they collect made an appeal for a polit approach to resolv the crisi in the valley and to ensur that the mistak of the past are not repeat modi appreci the construct suggest and reiter his govern s commit to the welfar and develop of the peopl of kashmir and said those who lost their live dure recent disturb are part of us our nation whether the live lost are of our youth secur personnel or polic it distress us govern and the nation stand with the state of jammu and kashmir 10 11 12 13 14 15'"
      ]
     },
     "execution_count": 11,
     "metadata": {},
     "output_type": "execute_result"
    }
   ],
   "source": [
    "user_articles"
   ]
  },
  {
   "cell_type": "code",
   "execution_count": 12,
   "metadata": {
    "scrolled": true
   },
   "outputs": [
    {
     "data": {
      "text/plain": [
       "<4831x36823 sparse matrix of type '<class 'numpy.float64'>'\n",
       "\twith 489462 stored elements in Compressed Sparse Row format>"
      ]
     },
     "execution_count": 12,
     "metadata": {},
     "output_type": "execute_result"
    }
   ],
   "source": [
    "tfidf_matrix = TfidfVectorizer(stop_words='english',min_df=1)\n",
    "article_tfidf_matrix = tfidf_matrix.fit_transform(cleaned_articles)\n",
    "article_tfidf_matrix"
   ]
  },
  {
   "cell_type": "code",
   "execution_count": 13,
   "metadata": {},
   "outputs": [
    {
     "data": {
      "text/plain": [
       "<1x36823 sparse matrix of type '<class 'numpy.float64'>'\n",
       "\twith 195 stored elements in Compressed Sparse Row format>"
      ]
     },
     "execution_count": 13,
     "metadata": {},
     "output_type": "execute_result"
    }
   ],
   "source": [
    "user_article_tfidf_vector = tfidf_matrix.transform([user_articles])\n",
    "user_article_tfidf_vector"
   ]
  },
  {
   "cell_type": "code",
   "execution_count": 14,
   "metadata": {},
   "outputs": [
    {
     "data": {
      "text/plain": [
       "(4831, 36823)"
      ]
     },
     "execution_count": 14,
     "metadata": {},
     "output_type": "execute_result"
    }
   ],
   "source": [
    "article_tfidf_matrix.shape"
   ]
  },
  {
   "cell_type": "code",
   "execution_count": 15,
   "metadata": {},
   "outputs": [
    {
     "data": {
      "text/plain": [
       "<1x36823 sparse matrix of type '<class 'numpy.float64'>'\n",
       "\twith 195 stored elements in Compressed Sparse Row format>"
      ]
     },
     "execution_count": 15,
     "metadata": {},
     "output_type": "execute_result"
    }
   ],
   "source": [
    "user_article_tfidf_vector"
   ]
  },
  {
   "cell_type": "code",
   "execution_count": 16,
   "metadata": {},
   "outputs": [
    {
     "data": {
      "text/plain": [
       "((4831, 36823), (1, 36823))"
      ]
     },
     "execution_count": 16,
     "metadata": {},
     "output_type": "execute_result"
    }
   ],
   "source": [
    "article_tfidf_matrix.shape,user_article_tfidf_vector.shape"
   ]
  },
  {
   "cell_type": "code",
   "execution_count": 17,
   "metadata": {},
   "outputs": [],
   "source": [
    "articles_similarity_score = cosine_similarity(user_article_tfidf_vector,article_tfidf_matrix)"
   ]
  },
  {
   "cell_type": "code",
   "execution_count": 18,
   "metadata": {},
   "outputs": [
    {
     "data": {
      "text/plain": [
       "array([[0.03049976, 0.0066453 , 0.79209201, ..., 0.01092048, 0.01228391,\n",
       "        0.02579905]])"
      ]
     },
     "execution_count": 18,
     "metadata": {},
     "output_type": "execute_result"
    }
   ],
   "source": [
    "articles_similarity_score"
   ]
  },
  {
   "cell_type": "code",
   "execution_count": 19,
   "metadata": {},
   "outputs": [],
   "source": [
    "recommended_articles_ids = np.argsort(articles_similarity_score,axis=0)[::-1].flatten()"
   ]
  },
  {
   "cell_type": "code",
   "execution_count": 20,
   "metadata": {},
   "outputs": [
    {
     "data": {
      "text/plain": [
       "(1, 4831)"
      ]
     },
     "execution_count": 20,
     "metadata": {},
     "output_type": "execute_result"
    }
   ],
   "source": [
    "articles_similarity_score.shape"
   ]
  },
  {
   "cell_type": "code",
   "execution_count": 21,
   "metadata": {},
   "outputs": [
    {
     "data": {
      "text/plain": [
       "array([0, 0, 0, ..., 0, 0, 0])"
      ]
     },
     "execution_count": 21,
     "metadata": {},
     "output_type": "execute_result"
    }
   ],
   "source": [
    "recommended_articles_ids"
   ]
  },
  {
   "cell_type": "code",
   "execution_count": null,
   "metadata": {},
   "outputs": [],
   "source": []
  },
  {
   "cell_type": "code",
   "execution_count": 22,
   "metadata": {},
   "outputs": [],
   "source": [
    "final_recommended_articles_id = [article_id for article_id in recommended_articles_ids\n",
    "                                if article_id not in articles_read][:no_of_recommends]"
   ]
  },
  {
   "cell_type": "code",
   "execution_count": 23,
   "metadata": {},
   "outputs": [
    {
     "data": {
      "text/plain": [
       "[0, 0, 0, 0, 0]"
      ]
     },
     "execution_count": 23,
     "metadata": {},
     "output_type": "execute_result"
    }
   ],
   "source": [
    "final_recommended_articles_id"
   ]
  },
  {
   "cell_type": "code",
   "execution_count": 24,
   "metadata": {},
   "outputs": [
    {
     "name": "stdout",
     "output_type": "stream",
     "text": [
      "Articles read by User :\n",
      "2    US  South Korea begin joint military drill ami...\n",
      "7    Dialogue crucial in finding permanent solution...\n",
      "Name: Title, dtype: object\n",
      "Recommended Articles to User :\n",
      "0    14 dead after bus falls into canal in Telangan...\n",
      "Name: Title, dtype: object\n"
     ]
    }
   ],
   "source": [
    "print('Articles read by User :')\n",
    "print (news.loc[news['Article_Id'].isin(articles_read)]['Title'])\n",
    "print('Recommended Articles to User :')\n",
    "print (news.loc[news['Article_Id'].isin(final_recommended_articles_id)]['Title'])"
   ]
  },
  {
   "cell_type": "code",
   "execution_count": null,
   "metadata": {},
   "outputs": [],
   "source": []
  },
  {
   "cell_type": "markdown",
   "metadata": {},
   "source": [
    "# TOPIC-MODELLING (LDA)"
   ]
  },
  {
   "cell_type": "code",
   "execution_count": 25,
   "metadata": {},
   "outputs": [],
   "source": [
    "#articlesreadbyusers\n",
    "reads = []\n",
    "reads_by_userA = [2,7]\n",
    "\n",
    "reads_by_userB = [5,4]\n",
    "\n",
    "reads_by_userC = [7,8]\n",
    "\n",
    "reads_by_userD = [99,100]\n",
    "\n",
    "reads = np.hstack([[reads_by_userA,reads_by_userB,reads_by_userC,reads_by_userD]])"
   ]
  },
  {
   "cell_type": "code",
   "execution_count": null,
   "metadata": {},
   "outputs": [],
   "source": []
  },
  {
   "cell_type": "code",
   "execution_count": 26,
   "metadata": {},
   "outputs": [],
   "source": [
    "news = pd.read_csv('news_articles.csv')"
   ]
  },
  {
   "cell_type": "code",
   "execution_count": 27,
   "metadata": {},
   "outputs": [
    {
     "data": {
      "text/html": [
       "<div>\n",
       "<style scoped>\n",
       "    .dataframe tbody tr th:only-of-type {\n",
       "        vertical-align: middle;\n",
       "    }\n",
       "\n",
       "    .dataframe tbody tr th {\n",
       "        vertical-align: top;\n",
       "    }\n",
       "\n",
       "    .dataframe thead th {\n",
       "        text-align: right;\n",
       "    }\n",
       "</style>\n",
       "<table border=\"1\" class=\"dataframe\">\n",
       "  <thead>\n",
       "    <tr style=\"text-align: right;\">\n",
       "      <th></th>\n",
       "      <th>Article_Id</th>\n",
       "      <th>Title</th>\n",
       "      <th>Author</th>\n",
       "      <th>Date</th>\n",
       "      <th>Content</th>\n",
       "      <th>URL</th>\n",
       "    </tr>\n",
       "  </thead>\n",
       "  <tbody>\n",
       "    <tr>\n",
       "      <th>0</th>\n",
       "      <td>0</td>\n",
       "      <td>14 dead after bus falls into canal in Telangan...</td>\n",
       "      <td>Devyani Sultania</td>\n",
       "      <td>August 22, 2016 12:34 IST</td>\n",
       "      <td>At least 14 people died and 17 others were inj...</td>\n",
       "      <td>http://www.ibtimes.co.in/14-dead-after-bus-fal...</td>\n",
       "    </tr>\n",
       "    <tr>\n",
       "      <th>1</th>\n",
       "      <td>1</td>\n",
       "      <td>Pratibha Tiwari molested on busy road   Saath ...</td>\n",
       "      <td>Suparno Sarkar</td>\n",
       "      <td>August 22, 2016 19:47 IST</td>\n",
       "      <td>TV actress Pratibha Tiwari  who is best known ...</td>\n",
       "      <td>NaN</td>\n",
       "    </tr>\n",
       "    <tr>\n",
       "      <th>2</th>\n",
       "      <td>2</td>\n",
       "      <td>US  South Korea begin joint military drill ami...</td>\n",
       "      <td>Namrata Tripathi</td>\n",
       "      <td>August 22, 2016 18:10 IST</td>\n",
       "      <td>The United States and South Korea began a join...</td>\n",
       "      <td>http://www.ibtimes.co.in/us-south-korea-begin-...</td>\n",
       "    </tr>\n",
       "    <tr>\n",
       "      <th>3</th>\n",
       "      <td>3</td>\n",
       "      <td>Illegal construction in Bengaluru  Will my hou...</td>\n",
       "      <td>S V Krishnamachari</td>\n",
       "      <td>August 22, 2016 17:39 IST</td>\n",
       "      <td>The relentless drive by Bengaluru s  Bangalore...</td>\n",
       "      <td>http://www.ibtimes.co.in/illegal-construction-...</td>\n",
       "    </tr>\n",
       "    <tr>\n",
       "      <th>4</th>\n",
       "      <td>4</td>\n",
       "      <td>Punjab Gau Rakshak Dal chief held for assaulti...</td>\n",
       "      <td>Pranshu Rathee</td>\n",
       "      <td>August 22, 2016 17:34 IST</td>\n",
       "      <td>Punjab Gau Raksha Dal chief Satish Kumar and h...</td>\n",
       "      <td>http://www.ibtimes.co.in/punjab-gau-rakshak-da...</td>\n",
       "    </tr>\n",
       "  </tbody>\n",
       "</table>\n",
       "</div>"
      ],
      "text/plain": [
       "   Article_Id                                              Title  \\\n",
       "0           0  14 dead after bus falls into canal in Telangan...   \n",
       "1           1  Pratibha Tiwari molested on busy road   Saath ...   \n",
       "2           2  US  South Korea begin joint military drill ami...   \n",
       "3           3  Illegal construction in Bengaluru  Will my hou...   \n",
       "4           4  Punjab Gau Rakshak Dal chief held for assaulti...   \n",
       "\n",
       "               Author                       Date  \\\n",
       "0    Devyani Sultania  August 22, 2016 12:34 IST   \n",
       "1      Suparno Sarkar  August 22, 2016 19:47 IST   \n",
       "2    Namrata Tripathi  August 22, 2016 18:10 IST   \n",
       "3  S V Krishnamachari  August 22, 2016 17:39 IST   \n",
       "4      Pranshu Rathee  August 22, 2016 17:34 IST   \n",
       "\n",
       "                                             Content  \\\n",
       "0  At least 14 people died and 17 others were inj...   \n",
       "1  TV actress Pratibha Tiwari  who is best known ...   \n",
       "2  The United States and South Korea began a join...   \n",
       "3  The relentless drive by Bengaluru s  Bangalore...   \n",
       "4  Punjab Gau Raksha Dal chief Satish Kumar and h...   \n",
       "\n",
       "                                                 URL  \n",
       "0  http://www.ibtimes.co.in/14-dead-after-bus-fal...  \n",
       "1                                                NaN  \n",
       "2  http://www.ibtimes.co.in/us-south-korea-begin-...  \n",
       "3  http://www.ibtimes.co.in/illegal-construction-...  \n",
       "4  http://www.ibtimes.co.in/punjab-gau-rakshak-da...  "
      ]
     },
     "execution_count": 27,
     "metadata": {},
     "output_type": "execute_result"
    }
   ],
   "source": [
    "news.head()"
   ]
  },
  {
   "cell_type": "code",
   "execution_count": 28,
   "metadata": {},
   "outputs": [],
   "source": [
    "news = news[['Article_Id','Title','Content']]"
   ]
  },
  {
   "cell_type": "code",
   "execution_count": 29,
   "metadata": {},
   "outputs": [],
   "source": [
    "contents = news['Content'].tolist()"
   ]
  },
  {
   "cell_type": "code",
   "execution_count": 30,
   "metadata": {},
   "outputs": [
    {
     "data": {
      "text/plain": [
       "'At least 14 people died and 17 others were injured after a bus travelling from Hyderabad to Kakinada plunged into a canal from a bridge on the accident-prone stretch of the Hyderabad-Khammam highway in Telangana early Monday morning \\r\\nThe injured were admitted to the Government General Hospital for treatment \\r\\n\\r\\n\\r\\nSeven people died on the spot and the others succumbed to injuries while undergoing treatment at the hospital  The passengers belonged to the East and West Godavari districts of Andhra Pradesh \\r\\nThe bus  owned by private operator Yatra Genie  commenced its journey from Hyderabad at 11 30 p m  on Sunday  Khammam Superintendent of Police Shah Nawaz Khan was quoted by the Hindustan Times as saying \\r\\nThe accident happened around 2 30 a m  when the driver slammed the brakes to avoid a collision with another vehicle coming from the opposite direction on a bridge over Nagarjunsagar project left canal at Nayankangudem village in Khammam district  the daily reported  The bus hit the parapet wall of the bridge and nose-dived into the canal \\r\\nThe driver of the bus was apparently driving at high speed due to which he lost control of the vehicle  following which it fell into the canal under Kusumanchi mandal  the Deccan Herald reported \\r\\nTravellers immediately informed the police who rushed to the accident scene and began the rescue operations '"
      ]
     },
     "execution_count": 30,
     "metadata": {},
     "output_type": "execute_result"
    }
   ],
   "source": [
    "contents[0]"
   ]
  },
  {
   "cell_type": "code",
   "execution_count": 31,
   "metadata": {},
   "outputs": [],
   "source": [
    "# cleaning of articles\n",
    "def clean_tokenize_filter(document):\n",
    "    document = re.sub('[^\\w_\\s-]', ' ',document)       #remove punctuation marks and other symbols\n",
    "    tokens = nltk.word_tokenize(document) #Tokenizing sentences\n",
    "    filtered_sentence = [w for w in tokens if w.lower() not in stop_words] #removing stopwords\n",
    "    cleaned_article = \" \".join([i for i in filtered_sentence])\n",
    "#     cleaned_article = ' '.join([stemmer.stem(item) for item in filtered_sentence])    #Stemming each token\n",
    "    return cleaned_article"
   ]
  },
  {
   "cell_type": "code",
   "execution_count": 32,
   "metadata": {},
   "outputs": [],
   "source": [
    "article_vocabulary = list(map(clean_tokenize_filter,contents))"
   ]
  },
  {
   "cell_type": "code",
   "execution_count": 33,
   "metadata": {},
   "outputs": [],
   "source": [
    "article_vocabulary_matrix = tfidf_matrix.fit_transform(article_vocabulary)"
   ]
  },
  {
   "cell_type": "code",
   "execution_count": 34,
   "metadata": {},
   "outputs": [
    {
     "data": {
      "text/plain": [
       "(4831, 45554)"
      ]
     },
     "execution_count": 34,
     "metadata": {},
     "output_type": "execute_result"
    }
   ],
   "source": [
    "article_vocabulary_matrix.shape"
   ]
  },
  {
   "cell_type": "code",
   "execution_count": 35,
   "metadata": {},
   "outputs": [],
   "source": [
    "tfidf_vocab = tfidf_matrix.vocabulary_"
   ]
  },
  {
   "cell_type": "code",
   "execution_count": 36,
   "metadata": {},
   "outputs": [
    {
     "data": {
      "text/plain": [
       "45554"
      ]
     },
     "execution_count": 36,
     "metadata": {},
     "output_type": "execute_result"
    }
   ],
   "source": [
    "len(tfidf_vocab)"
   ]
  },
  {
   "cell_type": "code",
   "execution_count": 37,
   "metadata": {},
   "outputs": [],
   "source": [
    "#pk.dump(dictionary,open('dictionary_of_vocabulary.p','wb'))"
   ]
  },
  {
   "cell_type": "code",
   "execution_count": 38,
   "metadata": {},
   "outputs": [],
   "source": [
    "lda = LatentDirichletAllocation(n_components=ntopics,max_iter=12,random_state=0)"
   ]
  },
  {
   "cell_type": "code",
   "execution_count": 39,
   "metadata": {},
   "outputs": [],
   "source": [
    "article_mat  = lda.fit_transform(article_vocabulary_matrix) #converting tfidf matrix into documents and topics matrix [Docs,Topics] "
   ]
  },
  {
   "cell_type": "code",
   "execution_count": 40,
   "metadata": {},
   "outputs": [
    {
     "data": {
      "text/plain": [
       "(4831, 8)"
      ]
     },
     "execution_count": 40,
     "metadata": {},
     "output_type": "execute_result"
    }
   ],
   "source": [
    "article_mat.shape"
   ]
  },
  {
   "cell_type": "code",
   "execution_count": 41,
   "metadata": {},
   "outputs": [
    {
     "data": {
      "text/plain": [
       "(8,)"
      ]
     },
     "execution_count": 41,
     "metadata": {},
     "output_type": "execute_result"
    }
   ],
   "source": [
    "np.argmax(article_mat,axis=0).shape #returns the max value of topics in documents or returns which topic the document belongs to"
   ]
  },
  {
   "cell_type": "code",
   "execution_count": 42,
   "metadata": {},
   "outputs": [
    {
     "data": {
      "text/plain": [
       "array([7, 7, 7, ..., 5, 5, 5])"
      ]
     },
     "execution_count": 42,
     "metadata": {},
     "output_type": "execute_result"
    }
   ],
   "source": [
    "np.argmax(article_mat,axis=1) #returns the max value of topic from which most of the documents belong to "
   ]
  },
  {
   "cell_type": "code",
   "execution_count": 43,
   "metadata": {},
   "outputs": [
    {
     "data": {
      "text/plain": [
       "array([[0.01343567, 0.22498329, 0.01341198, ..., 0.01355663, 0.01344543,\n",
       "        0.69435745],\n",
       "       [0.14424052, 0.01576905, 0.01576702, ..., 0.01592627, 0.17126524,\n",
       "        0.39491262],\n",
       "       [0.0137364 , 0.01374001, 0.01373118, ..., 0.01375699, 0.01383342,\n",
       "        0.9037057 ],\n",
       "       ...,\n",
       "       [0.01379233, 0.01379466, 0.01379205, ..., 0.90330092, 0.01383017,\n",
       "        0.01388976],\n",
       "       [0.01272748, 0.01280526, 0.01272566, ..., 0.91070791, 0.01273711,\n",
       "        0.01284376],\n",
       "       [0.01408462, 0.01408365, 0.01408162, ..., 0.59222305, 0.0140954 ,\n",
       "        0.32326404]])"
      ]
     },
     "execution_count": 43,
     "metadata": {},
     "output_type": "execute_result"
    }
   ],
   "source": [
    "article_mat  "
   ]
  },
  {
   "cell_type": "code",
   "execution_count": 44,
   "metadata": {},
   "outputs": [
    {
     "data": {
      "text/plain": [
       "array([0.14424052, 0.01576905, 0.01576702, 0.01576792, 0.22635135,\n",
       "       0.01592627, 0.17126524, 0.39491262])"
      ]
     },
     "execution_count": 44,
     "metadata": {},
     "output_type": "execute_result"
    }
   ],
   "source": [
    "article_mat[1] #show how much a article belongs to the particular topic or can say the probability of the document to belong to a topic"
   ]
  },
  {
   "cell_type": "code",
   "execution_count": 45,
   "metadata": {},
   "outputs": [
    {
     "data": {
      "text/plain": [
       "7"
      ]
     },
     "execution_count": 45,
     "metadata": {},
     "output_type": "execute_result"
    }
   ],
   "source": [
    "np.argmax(article_mat,axis=1)[1] #checking which topic does article one belongs to"
   ]
  },
  {
   "cell_type": "code",
   "execution_count": 46,
   "metadata": {},
   "outputs": [],
   "source": [
    "cc = np.array(news[\"Title\"]) #we take title of news from orginal raw data to recommend news accordingly"
   ]
  },
  {
   "cell_type": "code",
   "execution_count": 47,
   "metadata": {},
   "outputs": [
    {
     "data": {
      "text/plain": [
       "'Pratibha Tiwari molested on busy road   Saath Nibhana Saathiya  actress drags accused to police station'"
      ]
     },
     "execution_count": 47,
     "metadata": {},
     "output_type": "execute_result"
    }
   ],
   "source": [
    "cc[1]"
   ]
  },
  {
   "cell_type": "code",
   "execution_count": 48,
   "metadata": {},
   "outputs": [
    {
     "ename": "NameError",
     "evalue": "name 'labels' is not defined",
     "output_type": "error",
     "traceback": [
      "\u001b[0;31m---------------------------------------------------------------------------\u001b[0m",
      "\u001b[0;31mNameError\u001b[0m                                 Traceback (most recent call last)",
      "\u001b[0;32m<ipython-input-48-b16a405a3a7b>\u001b[0m in \u001b[0;36m<module>\u001b[0;34m\u001b[0m\n\u001b[0;32m----> 1\u001b[0;31m \u001b[0mcc\u001b[0m\u001b[0;34m[\u001b[0m\u001b[0mlabels\u001b[0m\u001b[0;34m==\u001b[0m\u001b[0;36m6\u001b[0m\u001b[0;34m]\u001b[0m\u001b[0;34m[\u001b[0m\u001b[0;34m:\u001b[0m\u001b[0;36m2\u001b[0m\u001b[0;34m]\u001b[0m\u001b[0;34m\u001b[0m\u001b[0m\n\u001b[0m",
      "\u001b[0;31mNameError\u001b[0m: name 'labels' is not defined"
     ]
    }
   ],
   "source": [
    "cc[labels==6][:2]"
   ]
  },
  {
   "cell_type": "code",
   "execution_count": null,
   "metadata": {},
   "outputs": [],
   "source": [
    "cc[np.argmax(article_mat,axis=1)==6][:2]"
   ]
  },
  {
   "cell_type": "code",
   "execution_count": null,
   "metadata": {},
   "outputs": [],
   "source": [
    "kmeans = KMeans(n_clusters=8,random_state=0,max_iter=4000)"
   ]
  },
  {
   "cell_type": "code",
   "execution_count": null,
   "metadata": {},
   "outputs": [],
   "source": [
    "kmeans.fit(article_mat)"
   ]
  },
  {
   "cell_type": "code",
   "execution_count": null,
   "metadata": {},
   "outputs": [],
   "source": [
    "labels = kmeans.labels_"
   ]
  },
  {
   "cell_type": "code",
   "execution_count": null,
   "metadata": {},
   "outputs": [],
   "source": [
    "labels==5"
   ]
  },
  {
   "cell_type": "code",
   "execution_count": null,
   "metadata": {},
   "outputs": [],
   "source": [
    "cc[labels==5][:2] #returns the matching labels where 5th topic is true in this example"
   ]
  },
  {
   "cell_type": "code",
   "execution_count": null,
   "metadata": {},
   "outputs": [],
   "source": [
    "cc[2]"
   ]
  },
  {
   "cell_type": "code",
   "execution_count": null,
   "metadata": {},
   "outputs": [],
   "source": [
    "cc[labels==5][:10]"
   ]
  },
  {
   "cell_type": "code",
   "execution_count": null,
   "metadata": {},
   "outputs": [],
   "source": [
    "recommended_articles = []\n",
    "for i in range(8):\n",
    "    recommended_articles.append(cc[labels==i][:3])"
   ]
  },
  {
   "cell_type": "code",
   "execution_count": null,
   "metadata": {},
   "outputs": [],
   "source": [
    "recommended_articles"
   ]
  },
  {
   "cell_type": "code",
   "execution_count": null,
   "metadata": {},
   "outputs": [],
   "source": []
  },
  {
   "cell_type": "markdown",
   "metadata": {},
   "source": []
  },
  {
   "cell_type": "markdown",
   "metadata": {},
   "source": [
    "# Glove"
   ]
  },
  {
   "cell_type": "code",
   "execution_count": null,
   "metadata": {},
   "outputs": [],
   "source": [
    "f =  open(file='/home/linu/glove.6B.50d.txt',mode='r')    #pretrained file for glove with 4lakh words and 50 dimensions"
   ]
  },
  {
   "cell_type": "code",
   "execution_count": null,
   "metadata": {},
   "outputs": [],
   "source": [
    "files = f.readlines()"
   ]
  },
  {
   "cell_type": "code",
   "execution_count": null,
   "metadata": {},
   "outputs": [],
   "source": [
    "glove_model = [i.split(\" \") for i in files]"
   ]
  },
  {
   "cell_type": "code",
   "execution_count": null,
   "metadata": {},
   "outputs": [],
   "source": [
    "glove_model "
   ]
  },
  {
   "cell_type": "code",
   "execution_count": null,
   "metadata": {},
   "outputs": [],
   "source": [
    "glove_dictionary = {}    #empty dictionary\n",
    "for i in range(len(files)) :     # here the length of file is 4lakh so the loop will run from 0 to 4lakh \n",
    "    row = files[i].split(' ')     # will iterate from 0 to 4lakh and split all the elements\n",
    "    glove_dictionary[row[0]] = row[1:]  #here it creates a dictionary of row[0] 'keys' and 50dimension 'values'"
   ]
  },
  {
   "cell_type": "code",
   "execution_count": null,
   "metadata": {},
   "outputs": [],
   "source": [
    "glove_words = list(glove_dictionary.keys())"
   ]
  },
  {
   "cell_type": "code",
   "execution_count": null,
   "metadata": {},
   "outputs": [],
   "source": [
    "tfidf_words = list(tfidf_vocab.keys())"
   ]
  },
  {
   "cell_type": "code",
   "execution_count": null,
   "metadata": {},
   "outputs": [],
   "source": [
    "final_dict = {}\n",
    "for i in range(len(tfidf_words)):\n",
    "    try:\n",
    "        row = files[i].split(' ')\n",
    "        final_dict[row[0]] = row[1:]\n",
    "    else:\n",
    "        final_dict[tfidf_words[i]] = [0]*50"
   ]
  },
  {
   "cell_type": "code",
   "execution_count": null,
   "metadata": {},
   "outputs": [],
   "source": [
    "len(final_dict)"
   ]
  },
  {
   "cell_type": "code",
   "execution_count": null,
   "metadata": {},
   "outputs": [],
   "source": [
    "len(tfidf_words)"
   ]
  },
  {
   "cell_type": "code",
   "execution_count": null,
   "metadata": {},
   "outputs": [],
   "source": []
  }
 ],
 "metadata": {
  "kernelspec": {
   "display_name": "Python 3",
   "language": "python",
   "name": "python3"
  },
  "language_info": {
   "codemirror_mode": {
    "name": "ipython",
    "version": 3
   },
   "file_extension": ".py",
   "mimetype": "text/x-python",
   "name": "python",
   "nbconvert_exporter": "python",
   "pygments_lexer": "ipython3",
   "version": "3.6.6"
  }
 },
 "nbformat": 4,
 "nbformat_minor": 2
}
