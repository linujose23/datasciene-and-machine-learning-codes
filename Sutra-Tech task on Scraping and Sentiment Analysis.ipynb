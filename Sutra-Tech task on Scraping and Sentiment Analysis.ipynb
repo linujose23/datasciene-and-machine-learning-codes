{
 "cells": [
  {
   "cell_type": "code",
   "execution_count": 10,
   "metadata": {},
   "outputs": [],
   "source": [
    "import numpy as np\n",
    "import pandas as pd\n",
    "from nltk.tokenize.toktok import ToktokTokenizer\n",
    "from sklearn.metrics.pairwise import cosine_similarity\n",
    "import re\n",
    "from nltk.stem.snowball import SnowballStemmer\n",
    "from nltk.corpus import stopwords\n",
    "import nltk\n",
    "import  sklearn\n",
    "from collections import Counter\n",
    "stemmer = SnowballStemmer('english')\n",
    "\n",
    "from sklearn.model_selection import GridSearchCV\n",
    "\n",
    "from sklearn.cluster import KMeans"
   ]
  },
  {
   "cell_type": "code",
   "execution_count": null,
   "metadata": {},
   "outputs": [],
   "source": []
  },
  {
   "cell_type": "markdown",
   "metadata": {},
   "source": [
    "# First of all we need Data so we will be scraping some Data from Ranveer's Twitter"
   ]
  },
  {
   "cell_type": "code",
   "execution_count": 61,
   "metadata": {},
   "outputs": [],
   "source": [
    "from bs4 import BeautifulSoup"
   ]
  },
  {
   "cell_type": "code",
   "execution_count": 62,
   "metadata": {},
   "outputs": [],
   "source": [
    "url = 'https://twitter.com/RanveerOfficial' \n",
    "data = requests.get(url) "
   ]
  },
  {
   "cell_type": "code",
   "execution_count": 63,
   "metadata": {},
   "outputs": [],
   "source": [
    "all_tweets = []\n",
    "html = BeautifulSoup(data.text, 'html.parser')\n",
    "timeline = html.select('#timeline li.stream-item')\n",
    "for tweet in timeline:\n",
    "    tweet_id = tweet['data-item-id']\n",
    "    tweet_text = tweet.select('p.tweet-text')[0].get_text()\n",
    "    all_tweets.append({\"id\": tweet_id, \"text\": tweet_text}) "
   ]
  },
  {
   "cell_type": "code",
   "execution_count": 64,
   "metadata": {},
   "outputs": [
    {
     "data": {
      "text/plain": [
       "21"
      ]
     },
     "execution_count": 64,
     "metadata": {},
     "output_type": "execute_result"
    }
   ],
   "source": [
    "len(all_tweets)"
   ]
  },
  {
   "cell_type": "code",
   "execution_count": 74,
   "metadata": {},
   "outputs": [
    {
     "data": {
      "text/plain": [
       "{'id': '1111554612941725696',\n",
       " 'text': 'The first drop.. Here’s presenting.. \\nZ E H E R \\n#KaamBhaari #IncInkhttp://bit.ly/ZeherByKaamBhaari\\xa0…'}"
      ]
     },
     "execution_count": 74,
     "metadata": {},
     "output_type": "execute_result"
    }
   ],
   "source": [
    "all_tweets[0]"
   ]
  },
  {
   "cell_type": "code",
   "execution_count": 90,
   "metadata": {},
   "outputs": [
    {
     "data": {
      "text/plain": [
       "{'id': '1124022119917133827',\n",
       " 'text': 'Killer super over from Bumrah! World class competitor! \\n& Hardik just ruthless! Showing Rashid no mercy! \\nCongrats to @mipaltan for making it to the playoffs! \\nOn to the next level!   #MIvSRH'}"
      ]
     },
     "execution_count": 90,
     "metadata": {},
     "output_type": "execute_result"
    }
   ],
   "source": [
    "all_tweets[1]"
   ]
  },
  {
   "cell_type": "code",
   "execution_count": 133,
   "metadata": {},
   "outputs": [],
   "source": [
    "data_lst = []"
   ]
  },
  {
   "cell_type": "code",
   "execution_count": null,
   "metadata": {},
   "outputs": [],
   "source": []
  },
  {
   "cell_type": "code",
   "execution_count": 148,
   "metadata": {},
   "outputs": [
    {
     "data": {
      "text/plain": [
       "[['id', '1111554612941725696'],\n",
       " ['text',\n",
       "  'The first drop.. Here’s presenting.. \\nZ E H E R \\n#KaamBhaari #IncInkhttp://bit.ly/ZeherByKaamBhaari\\xa0…'],\n",
       " ['id', '1124022119917133827'],\n",
       " ['text',\n",
       "  'Killer super over from Bumrah! World class competitor! \\n& Hardik just ruthless! Showing Rashid no mercy! \\nCongrats to @mipaltan for making it to the playoffs! \\nOn to the next level!   #MIvSRH'],\n",
       " ['id', '1123483160996655104'],\n",
       " ['text',\n",
       "  'A Mission #ChargedWithThumsUp \\n#TakeCharge @ThumsUpOfficialpic.twitter.com/4pBvURv9sd'],\n",
       " ['id', '1123154139922468864'],\n",
       " ['text',\n",
       "  'I can’t workout without my music! By #WorkingWithSpotify I’m able to create some really badass playlists! Check out this @spotifyindia playlist I made called ‘Ultimate Gym Sesh’. Make yours and get in the zone! Beast mode, baby!pic.twitter.com/s5R8Zer7Ch'],\n",
       " ['id', '1123138104636915717'],\n",
       " ['text', 'pic.twitter.com/PrzyoNcKcQ'],\n",
       " ['id', '1122774062617460736'],\n",
       " ['text', 'VOTE!!!  pic.twitter.com/xFj5GfEDCL'],\n",
       " ['id', '1122569340975337472'],\n",
       " ['text',\n",
       "  'Ultimately KKRs total proved to be insurmountable! \\n\\nValiant fight from Hardik though !! What mad hitting !! Crrrrrrrrrrrrrracking them!!!! \\n#KKRvMI \\n\\nDRE RUS SUPERSTAR ALL ROUND PERFORMANCE WAS THE DIFFERENCE'],\n",
       " ['id', '1122554501511012352'],\n",
       " ['text',\n",
       "  'Both teams cancel each other out ! De Gea came good at the very end. Good match at Old Trafford   top four spots being hard fought for ... #MUNCHE\\n#KKRvMI MEANWHILE Hardik and Pollard mounting a comeback here ? '],\n",
       " ['id', '1122541141621010432'],\n",
       " ['text',\n",
       "  'De gea is just having a howler match after match  !!!! What is going on yo ???!!!!  #MUNCHE'],\n",
       " ['id', '1122536697051271168'],\n",
       " ['text',\n",
       "  'There you have it ! Highest total of the season !!! KKR on fire !!! Who will step up for MI ?  #KKRvMI'],\n",
       " ['id', '1122529358105571328'],\n",
       " ['text', 'WHO ELSE IS MULTITASKING RIGHT NOW ???  #MUNCHE #KKRvMI'],\n",
       " ['id', '1122526631879249921'],\n",
       " ['text',\n",
       "  'I feel a massive score for KKR coming on !!! MI need to try hard to contain them in the remaining overs  !! KKR seem to be cutting loose ! #KKRvMI'],\n",
       " ['id', '1122523317712195584'],\n",
       " ['text',\n",
       "  'Now this is interesting ! DRE RUSS Up the order !!! Hmmmm a good move BUTTTT another big let off with the drop catch —- ! MI boys should be taking these catches !!!!!! Gill punishes immediately ! #KKRvMI'],\n",
       " ['id', '1122519628847009792'],\n",
       " ['text',\n",
       "  'Pretty killer start for KKR ! \\nBut Chahar the kid wonder strikes for MI ! Much needed breakthrough for MI! \\nA flyer from Gill and Lynn stopped in its tracks just in time ! Kadak match bossss  !!!  #KKRvMI'],\n",
       " ['id', '1122519172024393728'],\n",
       " ['text',\n",
       "  'Congrats to Delhi franchise for making it to the playoffs. It’s been a super solid season for the Capitals ! KAGISO RABADA BROOOO !! Young champion !!!!  #DCvRCB'],\n",
       " ['id', '1122515379908038657'],\n",
       " ['text',\n",
       "  'I thought Pollard was about to catch it !!! He’s such an incredible fielder yaar ! I mean, It was a tough one... but Pollard is usually Superman in these situations ! A big let off for KKR! Lynn’s is a big-ticket Big wicket! !  #KKRvMI'],\n",
       " ['id', '1122492819828985862'],\n",
       " ['text',\n",
       "  'The way Vardy split the defenders for that seemingly simplistic goal was a prime example of what is wrong with the Arsenal rear guard. I think Leno is a Beast of a Keeper but his work is being made extremely tedious by his defence!  #LEIARS'],\n",
       " ['id', '1122492563041112066'],\n",
       " ['text', 'The better defender at the moment ?'],\n",
       " ['id', '1122492174904332291'],\n",
       " ['text', 'Which player will prove to be the difference in the tie?'],\n",
       " ['id', '1122491170670514181'],\n",
       " ['text',\n",
       "  'Congrats to Barcelona for winning La Liga. But I think they’re going to face some serious heat from Liverpool in the Champions League. ‘Pool has been the most exciting football club for me this season. And I love Klopp’s personality. Top guy, top team!'],\n",
       " ['id', '1122490504271126529'],\n",
       " ['text',\n",
       "  'Maitland has been good. \\nSure, he did mess up today...but he has been fairly consistent of late. \\nArsenal need to rally and finish strong this season. \\nUnai, the Europa specialist, needs to deliver the goods now. #LEIARS']]"
      ]
     },
     "execution_count": 148,
     "metadata": {},
     "output_type": "execute_result"
    }
   ],
   "source": [
    "data_lst"
   ]
  },
  {
   "cell_type": "code",
   "execution_count": null,
   "metadata": {},
   "outputs": [],
   "source": []
  },
  {
   "cell_type": "code",
   "execution_count": 65,
   "metadata": {},
   "outputs": [],
   "source": [
    "data = all_tweets"
   ]
  },
  {
   "cell_type": "code",
   "execution_count": 66,
   "metadata": {},
   "outputs": [],
   "source": [
    "import pandas as pd"
   ]
  },
  {
   "cell_type": "code",
   "execution_count": null,
   "metadata": {},
   "outputs": [],
   "source": []
  },
  {
   "cell_type": "code",
   "execution_count": 67,
   "metadata": {},
   "outputs": [],
   "source": [
    "df = pd.DataFrame(data)"
   ]
  },
  {
   "cell_type": "code",
   "execution_count": 68,
   "metadata": {},
   "outputs": [
    {
     "data": {
      "text/html": [
       "<div>\n",
       "<style scoped>\n",
       "    .dataframe tbody tr th:only-of-type {\n",
       "        vertical-align: middle;\n",
       "    }\n",
       "\n",
       "    .dataframe tbody tr th {\n",
       "        vertical-align: top;\n",
       "    }\n",
       "\n",
       "    .dataframe thead th {\n",
       "        text-align: right;\n",
       "    }\n",
       "</style>\n",
       "<table border=\"1\" class=\"dataframe\">\n",
       "  <thead>\n",
       "    <tr style=\"text-align: right;\">\n",
       "      <th></th>\n",
       "      <th>id</th>\n",
       "      <th>text</th>\n",
       "    </tr>\n",
       "  </thead>\n",
       "  <tbody>\n",
       "    <tr>\n",
       "      <th>0</th>\n",
       "      <td>1111554612941725696</td>\n",
       "      <td>The first drop.. Here’s presenting.. \\nZ E H E...</td>\n",
       "    </tr>\n",
       "    <tr>\n",
       "      <th>1</th>\n",
       "      <td>1124022119917133827</td>\n",
       "      <td>Killer super over from Bumrah! World class com...</td>\n",
       "    </tr>\n",
       "    <tr>\n",
       "      <th>2</th>\n",
       "      <td>1123483160996655104</td>\n",
       "      <td>A Mission #ChargedWithThumsUp \\n#TakeCharge @T...</td>\n",
       "    </tr>\n",
       "    <tr>\n",
       "      <th>3</th>\n",
       "      <td>1123154139922468864</td>\n",
       "      <td>I can’t workout without my music! By #WorkingW...</td>\n",
       "    </tr>\n",
       "    <tr>\n",
       "      <th>4</th>\n",
       "      <td>1123138104636915717</td>\n",
       "      <td>pic.twitter.com/PrzyoNcKcQ</td>\n",
       "    </tr>\n",
       "  </tbody>\n",
       "</table>\n",
       "</div>"
      ],
      "text/plain": [
       "                    id                                               text\n",
       "0  1111554612941725696  The first drop.. Here’s presenting.. \\nZ E H E...\n",
       "1  1124022119917133827  Killer super over from Bumrah! World class com...\n",
       "2  1123483160996655104  A Mission #ChargedWithThumsUp \\n#TakeCharge @T...\n",
       "3  1123154139922468864  I can’t workout without my music! By #WorkingW...\n",
       "4  1123138104636915717                         pic.twitter.com/PrzyoNcKcQ"
      ]
     },
     "execution_count": 68,
     "metadata": {},
     "output_type": "execute_result"
    }
   ],
   "source": [
    "df.head()"
   ]
  },
  {
   "cell_type": "code",
   "execution_count": 291,
   "metadata": {},
   "outputs": [],
   "source": [
    "tweets = df['text']"
   ]
  },
  {
   "cell_type": "code",
   "execution_count": 300,
   "metadata": {},
   "outputs": [],
   "source": [
    "tweet_list = tweets.values.tolist()"
   ]
  },
  {
   "cell_type": "code",
   "execution_count": 301,
   "metadata": {},
   "outputs": [
    {
     "data": {
      "text/plain": [
       "['The first drop.. Here’s presenting.. \\nZ E H E R \\n#KaamBhaari #IncInkhttp://bit.ly/ZeherByKaamBhaari\\xa0…',\n",
       " 'Killer super over from Bumrah! World class competitor! \\n& Hardik just ruthless! Showing Rashid no mercy! \\nCongrats to @mipaltan for making it to the playoffs! \\nOn to the next level!   #MIvSRH',\n",
       " 'A Mission #ChargedWithThumsUp \\n#TakeCharge @ThumsUpOfficialpic.twitter.com/4pBvURv9sd',\n",
       " 'I can’t workout without my music! By #WorkingWithSpotify I’m able to create some really badass playlists! Check out this @spotifyindia playlist I made called ‘Ultimate Gym Sesh’. Make yours and get in the zone! Beast mode, baby!pic.twitter.com/s5R8Zer7Ch',\n",
       " 'pic.twitter.com/PrzyoNcKcQ',\n",
       " 'VOTE!!!  pic.twitter.com/xFj5GfEDCL',\n",
       " 'Ultimately KKRs total proved to be insurmountable! \\n\\nValiant fight from Hardik though !! What mad hitting !! Crrrrrrrrrrrrrracking them!!!! \\n#KKRvMI \\n\\nDRE RUS SUPERSTAR ALL ROUND PERFORMANCE WAS THE DIFFERENCE',\n",
       " 'Both teams cancel each other out ! De Gea came good at the very end. Good match at Old Trafford   top four spots being hard fought for ... #MUNCHE\\n#KKRvMI MEANWHILE Hardik and Pollard mounting a comeback here ? ',\n",
       " 'De gea is just having a howler match after match  !!!! What is going on yo ???!!!!  #MUNCHE',\n",
       " 'There you have it ! Highest total of the season !!! KKR on fire !!! Who will step up for MI ?  #KKRvMI',\n",
       " 'WHO ELSE IS MULTITASKING RIGHT NOW ???  #MUNCHE #KKRvMI',\n",
       " 'I feel a massive score for KKR coming on !!! MI need to try hard to contain them in the remaining overs  !! KKR seem to be cutting loose ! #KKRvMI',\n",
       " 'Now this is interesting ! DRE RUSS Up the order !!! Hmmmm a good move BUTTTT another big let off with the drop catch —- ! MI boys should be taking these catches !!!!!! Gill punishes immediately ! #KKRvMI',\n",
       " 'Pretty killer start for KKR ! \\nBut Chahar the kid wonder strikes for MI ! Much needed breakthrough for MI! \\nA flyer from Gill and Lynn stopped in its tracks just in time ! Kadak match bossss  !!!  #KKRvMI',\n",
       " 'Congrats to Delhi franchise for making it to the playoffs. It’s been a super solid season for the Capitals ! KAGISO RABADA BROOOO !! Young champion !!!!  #DCvRCB',\n",
       " 'I thought Pollard was about to catch it !!! He’s such an incredible fielder yaar ! I mean, It was a tough one... but Pollard is usually Superman in these situations ! A big let off for KKR! Lynn’s is a big-ticket Big wicket! !  #KKRvMI',\n",
       " 'The way Vardy split the defenders for that seemingly simplistic goal was a prime example of what is wrong with the Arsenal rear guard. I think Leno is a Beast of a Keeper but his work is being made extremely tedious by his defence!  #LEIARS',\n",
       " 'The better defender at the moment ?',\n",
       " 'Which player will prove to be the difference in the tie?',\n",
       " 'Congrats to Barcelona for winning La Liga. But I think they’re going to face some serious heat from Liverpool in the Champions League. ‘Pool has been the most exciting football club for me this season. And I love Klopp’s personality. Top guy, top team!',\n",
       " 'Maitland has been good. \\nSure, he did mess up today...but he has been fairly consistent of late. \\nArsenal need to rally and finish strong this season. \\nUnai, the Europa specialist, needs to deliver the goods now. #LEIARS']"
      ]
     },
     "execution_count": 301,
     "metadata": {},
     "output_type": "execute_result"
    }
   ],
   "source": [
    "tweet_list"
   ]
  },
  {
   "cell_type": "markdown",
   "metadata": {},
   "source": [
    "# NLP Operations"
   ]
  },
  {
   "cell_type": "code",
   "execution_count": 175,
   "metadata": {},
   "outputs": [],
   "source": [
    "def clean_tokenize(document):\n",
    "    document = re.sub('[^\\w_\\s-]',' ',str(document))\n",
    "    tokens  = nltk.word_tokenize(document)\n",
    "    cleaned_article = ' '.join([stemmer.stem(item) for item in tokens])   #stemming the tokenized corpus\n",
    "    return cleaned_article"
   ]
  },
  {
   "cell_type": "code",
   "execution_count": null,
   "metadata": {},
   "outputs": [],
   "source": []
  },
  {
   "cell_type": "code",
   "execution_count": 276,
   "metadata": {},
   "outputs": [
    {
     "data": {
      "text/plain": [
       "'id 1111554612941725696'"
      ]
     },
     "execution_count": 276,
     "metadata": {},
     "output_type": "execute_result"
    }
   ],
   "source": [
    "cleaned_text[0]"
   ]
  },
  {
   "cell_type": "code",
   "execution_count": null,
   "metadata": {},
   "outputs": [],
   "source": []
  },
  {
   "cell_type": "code",
   "execution_count": 331,
   "metadata": {},
   "outputs": [],
   "source": [
    "# cleaned_text = list(map(clean_tokenize,data_lst))"
   ]
  },
  {
   "cell_type": "code",
   "execution_count": 319,
   "metadata": {},
   "outputs": [],
   "source": [
    "# cleaned_text[1]"
   ]
  },
  {
   "cell_type": "code",
   "execution_count": null,
   "metadata": {},
   "outputs": [],
   "source": []
  },
  {
   "cell_type": "code",
   "execution_count": 173,
   "metadata": {},
   "outputs": [],
   "source": [
    "for i in range(len(data)):\n",
    "\n",
    "    for key, value in all_tweets[i].items():\n",
    "        data_lst.append([key, value])"
   ]
  },
  {
   "cell_type": "code",
   "execution_count": 250,
   "metadata": {},
   "outputs": [
    {
     "data": {
      "text/plain": [
       "'text the first drop here s present nz e h e r n kaambhaari incinkhttp bit ly zeherbykaambhaari xa0'"
      ]
     },
     "execution_count": 250,
     "metadata": {},
     "output_type": "execute_result"
    }
   ],
   "source": [
    "cleaned_text[1]"
   ]
  },
  {
   "cell_type": "code",
   "execution_count": 269,
   "metadata": {},
   "outputs": [
    {
     "data": {
      "text/plain": [
       "126"
      ]
     },
     "execution_count": 269,
     "metadata": {},
     "output_type": "execute_result"
    }
   ],
   "source": [
    "len(cleaned_text)"
   ]
  },
  {
   "cell_type": "code",
   "execution_count": 284,
   "metadata": {},
   "outputs": [],
   "source": [
    "from sklearn.feature_extraction.text import CountVectorizer"
   ]
  },
  {
   "cell_type": "code",
   "execution_count": null,
   "metadata": {},
   "outputs": [],
   "source": []
  },
  {
   "cell_type": "code",
   "execution_count": 320,
   "metadata": {},
   "outputs": [],
   "source": [
    "ct = list(map(clean_tokenize,tweet_list))"
   ]
  },
  {
   "cell_type": "code",
   "execution_count": null,
   "metadata": {},
   "outputs": [],
   "source": []
  },
  {
   "cell_type": "code",
   "execution_count": 302,
   "metadata": {},
   "outputs": [],
   "source": [
    "from textblob import TextBlob"
   ]
  },
  {
   "cell_type": "code",
   "execution_count": 330,
   "metadata": {},
   "outputs": [
    {
     "data": {
      "text/plain": [
       "['The first drop.. Here’s presenting.. \\nZ E H E R \\n#KaamBhaari #IncInkhttp://bit.ly/ZeherByKaamBhaari\\xa0…',\n",
       " 'Killer super over from Bumrah! World class competitor! \\n& Hardik just ruthless! Showing Rashid no mercy! \\nCongrats to @mipaltan for making it to the playoffs! \\nOn to the next level!   #MIvSRH',\n",
       " 'A Mission #ChargedWithThumsUp \\n#TakeCharge @ThumsUpOfficialpic.twitter.com/4pBvURv9sd',\n",
       " 'I can’t workout without my music! By #WorkingWithSpotify I’m able to create some really badass playlists! Check out this @spotifyindia playlist I made called ‘Ultimate Gym Sesh’. Make yours and get in the zone! Beast mode, baby!pic.twitter.com/s5R8Zer7Ch',\n",
       " 'pic.twitter.com/PrzyoNcKcQ',\n",
       " 'VOTE!!!  pic.twitter.com/xFj5GfEDCL',\n",
       " 'Ultimately KKRs total proved to be insurmountable! \\n\\nValiant fight from Hardik though !! What mad hitting !! Crrrrrrrrrrrrrracking them!!!! \\n#KKRvMI \\n\\nDRE RUS SUPERSTAR ALL ROUND PERFORMANCE WAS THE DIFFERENCE',\n",
       " 'Both teams cancel each other out ! De Gea came good at the very end. Good match at Old Trafford   top four spots being hard fought for ... #MUNCHE\\n#KKRvMI MEANWHILE Hardik and Pollard mounting a comeback here ? ',\n",
       " 'De gea is just having a howler match after match  !!!! What is going on yo ???!!!!  #MUNCHE',\n",
       " 'There you have it ! Highest total of the season !!! KKR on fire !!! Who will step up for MI ?  #KKRvMI',\n",
       " 'WHO ELSE IS MULTITASKING RIGHT NOW ???  #MUNCHE #KKRvMI',\n",
       " 'I feel a massive score for KKR coming on !!! MI need to try hard to contain them in the remaining overs  !! KKR seem to be cutting loose ! #KKRvMI',\n",
       " 'Now this is interesting ! DRE RUSS Up the order !!! Hmmmm a good move BUTTTT another big let off with the drop catch —- ! MI boys should be taking these catches !!!!!! Gill punishes immediately ! #KKRvMI',\n",
       " 'Pretty killer start for KKR ! \\nBut Chahar the kid wonder strikes for MI ! Much needed breakthrough for MI! \\nA flyer from Gill and Lynn stopped in its tracks just in time ! Kadak match bossss  !!!  #KKRvMI',\n",
       " 'Congrats to Delhi franchise for making it to the playoffs. It’s been a super solid season for the Capitals ! KAGISO RABADA BROOOO !! Young champion !!!!  #DCvRCB',\n",
       " 'I thought Pollard was about to catch it !!! He’s such an incredible fielder yaar ! I mean, It was a tough one... but Pollard is usually Superman in these situations ! A big let off for KKR! Lynn’s is a big-ticket Big wicket! !  #KKRvMI',\n",
       " 'The way Vardy split the defenders for that seemingly simplistic goal was a prime example of what is wrong with the Arsenal rear guard. I think Leno is a Beast of a Keeper but his work is being made extremely tedious by his defence!  #LEIARS',\n",
       " 'The better defender at the moment ?',\n",
       " 'Which player will prove to be the difference in the tie?',\n",
       " 'Congrats to Barcelona for winning La Liga. But I think they’re going to face some serious heat from Liverpool in the Champions League. ‘Pool has been the most exciting football club for me this season. And I love Klopp’s personality. Top guy, top team!',\n",
       " 'Maitland has been good. \\nSure, he did mess up today...but he has been fairly consistent of late. \\nArsenal need to rally and finish strong this season. \\nUnai, the Europa specialist, needs to deliver the goods now. #LEIARS']"
      ]
     },
     "execution_count": 330,
     "metadata": {},
     "output_type": "execute_result"
    }
   ],
   "source": [
    "tweet_list"
   ]
  },
  {
   "cell_type": "code",
   "execution_count": 333,
   "metadata": {},
   "outputs": [],
   "source": [
    "cleaned_text = list(map(clean_tokenize,tweet_list))"
   ]
  },
  {
   "cell_type": "code",
   "execution_count": 334,
   "metadata": {},
   "outputs": [
    {
     "data": {
      "text/plain": [
       "['the first drop here s present z e h e r kaambhaari incinkhttp bit ly zeherbykaambhaari',\n",
       " 'killer super over from bumrah world class competitor hardik just ruthless show rashid no merci congrat to mipaltan for make it to the playoff on to the next level mivsrh',\n",
       " 'a mission chargedwiththumsup takecharg thumsupofficialp twitter com 4pbvurv9sd',\n",
       " 'i can t workout without my music by workingwithspotifi i m abl to creat some realli badass playlist check out this spotifyindia playlist i made call ultim gym sesh make your and get in the zone beast mode babi pic twitter com s5r8zer7ch',\n",
       " 'pic twitter com przyonckcq',\n",
       " 'vote pic twitter com xfj5gfedcl',\n",
       " 'ultim kkrs total prove to be insurmount valiant fight from hardik though what mad hit crrrrrrrrrrrrrrack them kkrvmi dre rus superstar all round perform was the differ',\n",
       " 'both team cancel each other out de gea came good at the veri end good match at old trafford top four spot be hard fought for munch kkrvmi meanwhil hardik and pollard mount a comeback here',\n",
       " 'de gea is just have a howler match after match what is go on yo munch',\n",
       " 'there you have it highest total of the season kkr on fire who will step up for mi kkrvmi',\n",
       " 'who els is multitask right now munch kkrvmi',\n",
       " 'i feel a massiv score for kkr come on mi need to tri hard to contain them in the remain over kkr seem to be cut loos kkrvmi',\n",
       " 'now this is interest dre russ up the order hmmmm a good move butttt anoth big let off with the drop catch - mi boy should be take these catch gill punish immedi kkrvmi',\n",
       " 'pretti killer start for kkr but chahar the kid wonder strike for mi much need breakthrough for mi a flyer from gill and lynn stop in it track just in time kadak match bossss kkrvmi',\n",
       " 'congrat to delhi franchis for make it to the playoff it s been a super solid season for the capit kagiso rabada broooo young champion dcvrcb',\n",
       " 'i thought pollard was about to catch it he s such an incred fielder yaar i mean it was a tough one but pollard is usual superman in these situat a big let off for kkr lynn s is a big-ticket big wicket kkrvmi',\n",
       " 'the way vardi split the defend for that seem simplist goal was a prime exampl of what is wrong with the arsenal rear guard i think leno is a beast of a keeper but his work is be made extrem tedious by his defenc leiar',\n",
       " 'the better defend at the moment',\n",
       " 'which player will prove to be the differ in the tie',\n",
       " 'congrat to barcelona for win la liga but i think they re go to face some serious heat from liverpool in the champion leagu pool has been the most excit footbal club for me this season and i love klopp s person top guy top team',\n",
       " 'maitland has been good sure he did mess up today but he has been fair consist of late arsenal need to ralli and finish strong this season unai the europa specialist need to deliv the good now leiar']"
      ]
     },
     "execution_count": 334,
     "metadata": {},
     "output_type": "execute_result"
    }
   ],
   "source": [
    "cleaned_text"
   ]
  },
  {
   "cell_type": "code",
   "execution_count": null,
   "metadata": {},
   "outputs": [],
   "source": []
  },
  {
   "cell_type": "code",
   "execution_count": 366,
   "metadata": {},
   "outputs": [],
   "source": [
    "sentence_blobs = []"
   ]
  },
  {
   "cell_type": "code",
   "execution_count": 367,
   "metadata": {},
   "outputs": [],
   "source": [
    "for i in cleaned_text:\n",
    "    sentence_blobs.append(TextBlob(i))"
   ]
  },
  {
   "cell_type": "code",
   "execution_count": 368,
   "metadata": {},
   "outputs": [
    {
     "data": {
      "text/plain": [
       "[TextBlob(\"the first drop here s present z e h e r kaambhaari incinkhttp bit ly zeherbykaambhaari\"),\n",
       " TextBlob(\"killer super over from bumrah world class competitor hardik just ruthless show rashid no merci congrat to mipaltan for make it to the playoff on to the next level mivsrh\"),\n",
       " TextBlob(\"a mission chargedwiththumsup takecharg thumsupofficialp twitter com 4pbvurv9sd\"),\n",
       " TextBlob(\"i can t workout without my music by workingwithspotifi i m abl to creat some realli badass playlist check out this spotifyindia playlist i made call ultim gym sesh make your and get in the zone beast mode babi pic twitter com s5r8zer7ch\"),\n",
       " TextBlob(\"pic twitter com przyonckcq\"),\n",
       " TextBlob(\"vote pic twitter com xfj5gfedcl\"),\n",
       " TextBlob(\"ultim kkrs total prove to be insurmount valiant fight from hardik though what mad hit crrrrrrrrrrrrrrack them kkrvmi dre rus superstar all round perform was the differ\"),\n",
       " TextBlob(\"both team cancel each other out de gea came good at the veri end good match at old trafford top four spot be hard fought for munch kkrvmi meanwhil hardik and pollard mount a comeback here\"),\n",
       " TextBlob(\"de gea is just have a howler match after match what is go on yo munch\"),\n",
       " TextBlob(\"there you have it highest total of the season kkr on fire who will step up for mi kkrvmi\"),\n",
       " TextBlob(\"who els is multitask right now munch kkrvmi\"),\n",
       " TextBlob(\"i feel a massiv score for kkr come on mi need to tri hard to contain them in the remain over kkr seem to be cut loos kkrvmi\"),\n",
       " TextBlob(\"now this is interest dre russ up the order hmmmm a good move butttt anoth big let off with the drop catch - mi boy should be take these catch gill punish immedi kkrvmi\"),\n",
       " TextBlob(\"pretti killer start for kkr but chahar the kid wonder strike for mi much need breakthrough for mi a flyer from gill and lynn stop in it track just in time kadak match bossss kkrvmi\"),\n",
       " TextBlob(\"congrat to delhi franchis for make it to the playoff it s been a super solid season for the capit kagiso rabada broooo young champion dcvrcb\"),\n",
       " TextBlob(\"i thought pollard was about to catch it he s such an incred fielder yaar i mean it was a tough one but pollard is usual superman in these situat a big let off for kkr lynn s is a big-ticket big wicket kkrvmi\"),\n",
       " TextBlob(\"the way vardi split the defend for that seem simplist goal was a prime exampl of what is wrong with the arsenal rear guard i think leno is a beast of a keeper but his work is be made extrem tedious by his defenc leiar\"),\n",
       " TextBlob(\"the better defend at the moment\"),\n",
       " TextBlob(\"which player will prove to be the differ in the tie\"),\n",
       " TextBlob(\"congrat to barcelona for win la liga but i think they re go to face some serious heat from liverpool in the champion leagu pool has been the most excit footbal club for me this season and i love klopp s person top guy top team\"),\n",
       " TextBlob(\"maitland has been good sure he did mess up today but he has been fair consist of late arsenal need to ralli and finish strong this season unai the europa specialist need to deliv the good now leiar\")]"
      ]
     },
     "execution_count": 368,
     "metadata": {},
     "output_type": "execute_result"
    }
   ],
   "source": [
    "sentence_blobs"
   ]
  },
  {
   "cell_type": "code",
   "execution_count": 348,
   "metadata": {},
   "outputs": [
    {
     "data": {
      "text/plain": [
       "TextBlob(\"maitland has been good sure he did mess up today but he has been fair consist of late arsenal need to ralli and finish strong this season unai the europa specialist need to deliv the good now leiar\")"
      ]
     },
     "execution_count": 348,
     "metadata": {},
     "output_type": "execute_result"
    }
   ],
   "source": [
    "blob1"
   ]
  },
  {
   "cell_type": "code",
   "execution_count": 372,
   "metadata": {},
   "outputs": [],
   "source": [
    "sentence_sentiment_scores = []"
   ]
  },
  {
   "cell_type": "code",
   "execution_count": 375,
   "metadata": {},
   "outputs": [],
   "source": [
    "for i in range(len(cleaned_text)):\n",
    "    \n",
    "    sentence_sentiment_scores.append((format(sentence_blobs[i].sentiment)))"
   ]
  },
  {
   "cell_type": "code",
   "execution_count": 382,
   "metadata": {},
   "outputs": [],
   "source": [
    "sentiments = (sentence_sentiment_scores[21:])"
   ]
  },
  {
   "cell_type": "code",
   "execution_count": 384,
   "metadata": {},
   "outputs": [],
   "source": [
    "cv = CountVectorizer(binary=True)\n",
    "cv.fit(sentiments)\n",
    "X = cv.transform(sentiments)"
   ]
  },
  {
   "cell_type": "code",
   "execution_count": null,
   "metadata": {},
   "outputs": [],
   "source": []
  },
  {
   "cell_type": "code",
   "execution_count": null,
   "metadata": {},
   "outputs": [],
   "source": []
  },
  {
   "cell_type": "code",
   "execution_count": 386,
   "metadata": {},
   "outputs": [],
   "source": [
    "kmeans =  KMeans(n_clusters=4,random_state=101,max_iter=600)\n",
    "model = kmeans.fit(X)\n",
    "Labels = model.labels_"
   ]
  },
  {
   "cell_type": "code",
   "execution_count": 390,
   "metadata": {},
   "outputs": [
    {
     "data": {
      "text/plain": [
       "<bound method BaseEstimator.get_params of KMeans(algorithm='auto', copy_x=True, init='k-means++', max_iter=600,\n",
       "    n_clusters=4, n_init=10, n_jobs=None, precompute_distances='auto',\n",
       "    random_state=101, tol=0.0001, verbose=0)>"
      ]
     },
     "execution_count": 390,
     "metadata": {},
     "output_type": "execute_result"
    }
   ],
   "source": [
    "model.get_params"
   ]
  },
  {
   "cell_type": "code",
   "execution_count": null,
   "metadata": {},
   "outputs": [],
   "source": []
  },
  {
   "cell_type": "code",
   "execution_count": 393,
   "metadata": {},
   "outputs": [
    {
     "data": {
      "text/plain": [
       "array([1, 1, 1, 1, 1, 1, 1, 1, 1, 1, 1, 0, 1, 1, 1, 2, 1, 1, 1, 3, 1])"
      ]
     },
     "execution_count": 393,
     "metadata": {},
     "output_type": "execute_result"
    }
   ],
   "source": [
    "Labels"
   ]
  },
  {
   "cell_type": "code",
   "execution_count": 430,
   "metadata": {},
   "outputs": [],
   "source": [
    "new_df = pd.DataFrame(all_tweets,sentiments)"
   ]
  },
  {
   "cell_type": "code",
   "execution_count": 433,
   "metadata": {},
   "outputs": [
    {
     "data": {
      "text/html": [
       "<div>\n",
       "<style scoped>\n",
       "    .dataframe tbody tr th:only-of-type {\n",
       "        vertical-align: middle;\n",
       "    }\n",
       "\n",
       "    .dataframe tbody tr th {\n",
       "        vertical-align: top;\n",
       "    }\n",
       "\n",
       "    .dataframe thead th {\n",
       "        text-align: right;\n",
       "    }\n",
       "</style>\n",
       "<table border=\"1\" class=\"dataframe\">\n",
       "  <thead>\n",
       "    <tr style=\"text-align: right;\">\n",
       "      <th></th>\n",
       "      <th>id</th>\n",
       "      <th>text</th>\n",
       "    </tr>\n",
       "  </thead>\n",
       "  <tbody>\n",
       "    <tr>\n",
       "      <th>Sentiment(polarity=0.125, subjectivity=0.16666666666666666)</th>\n",
       "      <td>1111554612941725696</td>\n",
       "      <td>The first drop.. Here’s presenting.. \\nZ E H E...</td>\n",
       "    </tr>\n",
       "    <tr>\n",
       "      <th>Sentiment(polarity=-0.22222222222222224, subjectivity=0.5555555555555555)</th>\n",
       "      <td>1124022119917133827</td>\n",
       "      <td>Killer super over from Bumrah! World class com...</td>\n",
       "    </tr>\n",
       "    <tr>\n",
       "      <th>Sentiment(polarity=0.0, subjectivity=0.0)</th>\n",
       "      <td>1123483160996655104</td>\n",
       "      <td>A Mission #ChargedWithThumsUp \\n#TakeCharge @T...</td>\n",
       "    </tr>\n",
       "    <tr>\n",
       "      <th>Sentiment(polarity=0.0, subjectivity=0.0)</th>\n",
       "      <td>1123154139922468864</td>\n",
       "      <td>I can’t workout without my music! By #WorkingW...</td>\n",
       "    </tr>\n",
       "    <tr>\n",
       "      <th>Sentiment(polarity=0.0, subjectivity=0.0)</th>\n",
       "      <td>1123138104636915717</td>\n",
       "      <td>pic.twitter.com/PrzyoNcKcQ</td>\n",
       "    </tr>\n",
       "    <tr>\n",
       "      <th>Sentiment(polarity=0.0, subjectivity=0.0)</th>\n",
       "      <td>1122774062617460736</td>\n",
       "      <td>VOTE!!!  pic.twitter.com/xFj5GfEDCL</td>\n",
       "    </tr>\n",
       "    <tr>\n",
       "      <th>Sentiment(polarity=-0.27499999999999997, subjectivity=0.7166666666666667)</th>\n",
       "      <td>1122569340975337472</td>\n",
       "      <td>Ultimately KKRs total proved to be insurmounta...</td>\n",
       "    </tr>\n",
       "    <tr>\n",
       "      <th>Sentiment(polarity=0.2638888888888889, subjectivity=0.4694444444444445)</th>\n",
       "      <td>1122554501511012352</td>\n",
       "      <td>Both teams cancel each other out ! De Gea came...</td>\n",
       "    </tr>\n",
       "    <tr>\n",
       "      <th>Sentiment(polarity=0.0, subjectivity=0.0)</th>\n",
       "      <td>1122541141621010432</td>\n",
       "      <td>De gea is just having a howler match after mat...</td>\n",
       "    </tr>\n",
       "    <tr>\n",
       "      <th>Sentiment(polarity=0.0, subjectivity=0.75)</th>\n",
       "      <td>1122536697051271168</td>\n",
       "      <td>There you have it ! Highest total of the seaso...</td>\n",
       "    </tr>\n",
       "    <tr>\n",
       "      <th>Sentiment(polarity=0.2857142857142857, subjectivity=0.5357142857142857)</th>\n",
       "      <td>1122529358105571328</td>\n",
       "      <td>WHO ELSE IS MULTITASKING RIGHT NOW ???  #MUNCH...</td>\n",
       "    </tr>\n",
       "    <tr>\n",
       "      <th>Sentiment(polarity=-0.2916666666666667, subjectivity=0.5416666666666666)</th>\n",
       "      <td>1122526631879249921</td>\n",
       "      <td>I feel a massive score for KKR coming on !!! M...</td>\n",
       "    </tr>\n",
       "    <tr>\n",
       "      <th>Sentiment(polarity=0.35, subjectivity=0.35000000000000003)</th>\n",
       "      <td>1122523317712195584</td>\n",
       "      <td>Now this is interesting ! DRE RUSS Up the orde...</td>\n",
       "    </tr>\n",
       "    <tr>\n",
       "      <th>Sentiment(polarity=0.2, subjectivity=0.2)</th>\n",
       "      <td>1122519628847009792</td>\n",
       "      <td>Pretty killer start for KKR ! \\nBut Chahar the...</td>\n",
       "    </tr>\n",
       "    <tr>\n",
       "      <th>Sentiment(polarity=0.14444444444444446, subjectivity=0.38888888888888884)</th>\n",
       "      <td>1122519172024393728</td>\n",
       "      <td>Congrats to Delhi franchise for making it to t...</td>\n",
       "    </tr>\n",
       "    <tr>\n",
       "      <th>Sentiment(polarity=-0.1585648148148148, subjectivity=0.4118055555555556)</th>\n",
       "      <td>1122515379908038657</td>\n",
       "      <td>I thought Pollard was about to catch it !!! He...</td>\n",
       "    </tr>\n",
       "    <tr>\n",
       "      <th>Sentiment(polarity=-0.5, subjectivity=0.95)</th>\n",
       "      <td>1122492819828985862</td>\n",
       "      <td>The way Vardy split the defenders for that see...</td>\n",
       "    </tr>\n",
       "    <tr>\n",
       "      <th>Sentiment(polarity=0.5, subjectivity=0.5)</th>\n",
       "      <td>1122492563041112066</td>\n",
       "      <td>The better defender at the moment ?</td>\n",
       "    </tr>\n",
       "    <tr>\n",
       "      <th>Sentiment(polarity=0.0, subjectivity=0.0)</th>\n",
       "      <td>1122492174904332291</td>\n",
       "      <td>Which player will prove to be the difference i...</td>\n",
       "    </tr>\n",
       "    <tr>\n",
       "      <th>Sentiment(polarity=0.41111111111111115, subjectivity=0.5277777777777778)</th>\n",
       "      <td>1122491170670514181</td>\n",
       "      <td>Congrats to Barcelona for winning La Liga. But...</td>\n",
       "    </tr>\n",
       "    <tr>\n",
       "      <th>Sentiment(polarity=0.36547619047619045, subjectivity=0.6424603174603175)</th>\n",
       "      <td>1122490504271126529</td>\n",
       "      <td>Maitland has been good. \\nSure, he did mess up...</td>\n",
       "    </tr>\n",
       "  </tbody>\n",
       "</table>\n",
       "</div>"
      ],
      "text/plain": [
       "                                                                     id  \\\n",
       "Sentiment(polarity=0.125, subjectivity=0.166666...  1111554612941725696   \n",
       "Sentiment(polarity=-0.22222222222222224, subjec...  1124022119917133827   \n",
       "Sentiment(polarity=0.0, subjectivity=0.0)           1123483160996655104   \n",
       "Sentiment(polarity=0.0, subjectivity=0.0)           1123154139922468864   \n",
       "Sentiment(polarity=0.0, subjectivity=0.0)           1123138104636915717   \n",
       "Sentiment(polarity=0.0, subjectivity=0.0)           1122774062617460736   \n",
       "Sentiment(polarity=-0.27499999999999997, subjec...  1122569340975337472   \n",
       "Sentiment(polarity=0.2638888888888889, subjecti...  1122554501511012352   \n",
       "Sentiment(polarity=0.0, subjectivity=0.0)           1122541141621010432   \n",
       "Sentiment(polarity=0.0, subjectivity=0.75)          1122536697051271168   \n",
       "Sentiment(polarity=0.2857142857142857, subjecti...  1122529358105571328   \n",
       "Sentiment(polarity=-0.2916666666666667, subject...  1122526631879249921   \n",
       "Sentiment(polarity=0.35, subjectivity=0.3500000...  1122523317712195584   \n",
       "Sentiment(polarity=0.2, subjectivity=0.2)           1122519628847009792   \n",
       "Sentiment(polarity=0.14444444444444446, subject...  1122519172024393728   \n",
       "Sentiment(polarity=-0.1585648148148148, subject...  1122515379908038657   \n",
       "Sentiment(polarity=-0.5, subjectivity=0.95)         1122492819828985862   \n",
       "Sentiment(polarity=0.5, subjectivity=0.5)           1122492563041112066   \n",
       "Sentiment(polarity=0.0, subjectivity=0.0)           1122492174904332291   \n",
       "Sentiment(polarity=0.41111111111111115, subject...  1122491170670514181   \n",
       "Sentiment(polarity=0.36547619047619045, subject...  1122490504271126529   \n",
       "\n",
       "                                                                                                 text  \n",
       "Sentiment(polarity=0.125, subjectivity=0.166666...  The first drop.. Here’s presenting.. \\nZ E H E...  \n",
       "Sentiment(polarity=-0.22222222222222224, subjec...  Killer super over from Bumrah! World class com...  \n",
       "Sentiment(polarity=0.0, subjectivity=0.0)           A Mission #ChargedWithThumsUp \\n#TakeCharge @T...  \n",
       "Sentiment(polarity=0.0, subjectivity=0.0)           I can’t workout without my music! By #WorkingW...  \n",
       "Sentiment(polarity=0.0, subjectivity=0.0)                                  pic.twitter.com/PrzyoNcKcQ  \n",
       "Sentiment(polarity=0.0, subjectivity=0.0)                         VOTE!!!  pic.twitter.com/xFj5GfEDCL  \n",
       "Sentiment(polarity=-0.27499999999999997, subjec...  Ultimately KKRs total proved to be insurmounta...  \n",
       "Sentiment(polarity=0.2638888888888889, subjecti...  Both teams cancel each other out ! De Gea came...  \n",
       "Sentiment(polarity=0.0, subjectivity=0.0)           De gea is just having a howler match after mat...  \n",
       "Sentiment(polarity=0.0, subjectivity=0.75)          There you have it ! Highest total of the seaso...  \n",
       "Sentiment(polarity=0.2857142857142857, subjecti...  WHO ELSE IS MULTITASKING RIGHT NOW ???  #MUNCH...  \n",
       "Sentiment(polarity=-0.2916666666666667, subject...  I feel a massive score for KKR coming on !!! M...  \n",
       "Sentiment(polarity=0.35, subjectivity=0.3500000...  Now this is interesting ! DRE RUSS Up the orde...  \n",
       "Sentiment(polarity=0.2, subjectivity=0.2)           Pretty killer start for KKR ! \\nBut Chahar the...  \n",
       "Sentiment(polarity=0.14444444444444446, subject...  Congrats to Delhi franchise for making it to t...  \n",
       "Sentiment(polarity=-0.1585648148148148, subject...  I thought Pollard was about to catch it !!! He...  \n",
       "Sentiment(polarity=-0.5, subjectivity=0.95)         The way Vardy split the defenders for that see...  \n",
       "Sentiment(polarity=0.5, subjectivity=0.5)                         The better defender at the moment ?  \n",
       "Sentiment(polarity=0.0, subjectivity=0.0)           Which player will prove to be the difference i...  \n",
       "Sentiment(polarity=0.41111111111111115, subject...  Congrats to Barcelona for winning La Liga. But...  \n",
       "Sentiment(polarity=0.36547619047619045, subject...  Maitland has been good. \\nSure, he did mess up...  "
      ]
     },
     "execution_count": 433,
     "metadata": {},
     "output_type": "execute_result"
    }
   ],
   "source": [
    "new_df"
   ]
  },
  {
   "cell_type": "code",
   "execution_count": null,
   "metadata": {},
   "outputs": [],
   "source": []
  },
  {
   "cell_type": "code",
   "execution_count": null,
   "metadata": {},
   "outputs": [],
   "source": []
  }
 ],
 "metadata": {
  "kernelspec": {
   "display_name": "Python 3",
   "language": "python",
   "name": "python3"
  },
  "language_info": {
   "codemirror_mode": {
    "name": "ipython",
    "version": 3
   },
   "file_extension": ".py",
   "mimetype": "text/x-python",
   "name": "python",
   "nbconvert_exporter": "python",
   "pygments_lexer": "ipython3",
   "version": "3.7.1"
  }
 },
 "nbformat": 4,
 "nbformat_minor": 2
}
