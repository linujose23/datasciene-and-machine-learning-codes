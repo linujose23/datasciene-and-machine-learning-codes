{
 "cells": [
  {
   "cell_type": "code",
   "execution_count": 6,
   "metadata": {},
   "outputs": [
    {
     "name": "stdout",
     "output_type": "stream",
     "text": [
      "mu : [ 5.35959795 -2.76335345  9.90244994] var : [0.94250934 4.51818098 1.03135223]\n"
     ]
    }
   ],
   "source": [
    "import numpy as np\n",
    "from sklearn.datasets.samples_generator import make_blobs\n",
    "from sklearn.mixture import GaussianMixture\n",
    "import scipy.stats as sc\n",
    "\n",
    "noc = 3\n",
    "nof = 3\n",
    "n = 30000\n",
    "x,y = make_blobs(n_samples=n,n_features=nof,centers=noc,cluster_std=1.0, random_state=50)\n",
    "\n",
    "x1 = x[:,0]\n",
    "x2 = x[:,1]\n",
    "x3 = x[:,2]\n",
    "\n",
    "X = np.hstack([x1,x2,x3])\n",
    "\n",
    "P = 0.5 * np.ones((noc,len(X)))\n",
    "mu = np.random.random(noc)*10\n",
    "sigma = np.ones(noc)\n",
    "bayes = np.ones((noc,len(X)))\n",
    "# P = np.random.random(noc)*0.33\n",
    "\n",
    "for i in range(100):\n",
    "    \n",
    "    bayes[0] = P[0] * sc.norm.pdf(X,mu[0],sigma[0])\n",
    "    \n",
    "    bayes[1] = P[1] * sc.norm.pdf(X,mu[1],sigma[1])\n",
    "    \n",
    "    bayes[2] = P[2] * sc.norm.pdf(X,mu[2],sigma[2])\n",
    "    \n",
    "    Sum = np.sum(bayes,axis=0)\n",
    "    \n",
    "    bayes = bayes/Sum\n",
    "    \n",
    "    P = np.sum(bayes,axis=1)/len(x)\n",
    "    \n",
    "    mu = np.sum(bayes*X,axis=1)/np.sum(bayes,axis=1)\n",
    "    \n",
    "    sigma = np.sqrt(np.sum(bayes*((X-mu[:,np.newaxis])**2),axis=1)/np.sum(bayes,axis=1))\n",
    "    \n",
    "var = sigma**2\n",
    "\n",
    "print(\"mu :\",mu,\"var :\",var)"
   ]
  },
  {
   "cell_type": "code",
   "execution_count": 7,
   "metadata": {},
   "outputs": [],
   "source": [
    "from sklearn.mixture import GaussianMixture "
   ]
  },
  {
   "cell_type": "code",
   "execution_count": 8,
   "metadata": {},
   "outputs": [],
   "source": [
    "model = GaussianMixture(n_components=3)"
   ]
  },
  {
   "cell_type": "code",
   "execution_count": 9,
   "metadata": {},
   "outputs": [
    {
     "data": {
      "text/plain": [
       "GaussianMixture(covariance_type='full', init_params='kmeans', max_iter=100,\n",
       "        means_init=None, n_components=3, n_init=1, precisions_init=None,\n",
       "        random_state=None, reg_covar=1e-06, tol=0.001, verbose=0,\n",
       "        verbose_interval=10, warm_start=False, weights_init=None)"
      ]
     },
     "execution_count": 9,
     "metadata": {},
     "output_type": "execute_result"
    }
   ],
   "source": [
    "model.fit(X.reshape(-1,1))"
   ]
  },
  {
   "cell_type": "code",
   "execution_count": 10,
   "metadata": {},
   "outputs": [
    {
     "data": {
      "text/plain": [
       "array([[-2.76538192],\n",
       "       [ 5.36425035],\n",
       "       [ 9.9152669 ]])"
      ]
     },
     "execution_count": 10,
     "metadata": {},
     "output_type": "execute_result"
    }
   ],
   "source": [
    "model.means_"
   ]
  },
  {
   "cell_type": "code",
   "execution_count": 11,
   "metadata": {},
   "outputs": [
    {
     "data": {
      "text/plain": [
       "array([[[4.50754319]],\n",
       "\n",
       "       [[0.96152528]],\n",
       "\n",
       "       [[1.00740927]]])"
      ]
     },
     "execution_count": 11,
     "metadata": {},
     "output_type": "execute_result"
    }
   ],
   "source": [
    "model.covariances_"
   ]
  },
  {
   "cell_type": "code",
   "execution_count": null,
   "metadata": {},
   "outputs": [],
   "source": []
  }
 ],
 "metadata": {
  "kernelspec": {
   "display_name": "Python 3",
   "language": "python",
   "name": "python3"
  },
  "language_info": {
   "codemirror_mode": {
    "name": "ipython",
    "version": 3
   },
   "file_extension": ".py",
   "mimetype": "text/x-python",
   "name": "python",
   "nbconvert_exporter": "python",
   "pygments_lexer": "ipython3",
   "version": "3.6.5"
  }
 },
 "nbformat": 4,
 "nbformat_minor": 2
}
